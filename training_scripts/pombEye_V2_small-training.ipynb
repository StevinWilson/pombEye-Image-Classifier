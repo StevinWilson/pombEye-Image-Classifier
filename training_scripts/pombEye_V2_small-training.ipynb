{
 "cells": [
  {
   "cell_type": "code",
   "execution_count": 2,
   "metadata": {},
   "outputs": [
    {
     "name": "stdout",
     "output_type": "stream",
     "text": [
      "[PhysicalDevice(name='/physical_device:GPU:0', device_type='GPU')]\n",
      "INFO:tensorflow:Mixed precision compatibility check (mixed_float16): OK\n",
      "Your GPU will likely run quickly with dtype policy mixed_float16 as it has compute capability of at least 7.0. Your GPU: GeForce RTX 2060 SUPER, compute capability 7.5\n",
      "WARNING:tensorflow:From /usr/local/lib/python3.6/dist-packages/tensorflow/python/keras/mixed_precision/loss_scale.py:56: DynamicLossScale.__init__ (from tensorflow.python.training.experimental.loss_scale) is deprecated and will be removed in a future version.\n",
      "Instructions for updating:\n",
      "Use tf.keras.mixed_precision.LossScaleOptimizer instead. LossScaleOptimizer now has all the functionality of DynamicLossScale\n",
      "Tensorflow version 2.4.0\n",
      "tf.keras version 2.4.0\n"
     ]
    }
   ],
   "source": [
    "import numpy as np\n",
    "import pandas as pd\n",
    "\n",
    "import tensorflow as tf\n",
    "from tensorflow import keras\n",
    "gpu_devices = tf.config.experimental.list_physical_devices('GPU')\n",
    "print(gpu_devices)\n",
    "for device in gpu_devices:\n",
    "    tf.config.experimental.set_memory_growth(device, True)\n",
    "from tensorflow.keras.mixed_precision import experimental as mixed_precision\n",
    "policy = mixed_precision.Policy('mixed_float16')\n",
    "mixed_precision.set_policy(policy)\n",
    "\n",
    "\n",
    "import matplotlib.pyplot as plt\n",
    "import os\n",
    "import re\n",
    "from glob import glob\n",
    "from sklearn.model_selection import train_test_split\n",
    "from sklearn.utils import resample\n",
    "import datetime\n",
    "np.random.seed(42)\n",
    "tf.random.set_seed(42)\n",
    "\n",
    "print(\"Tensorflow version \" + tf.__version__)\n",
    "print(\"tf.keras version \" + tf.keras.__version__)"
   ]
  },
  {
   "cell_type": "code",
   "execution_count": 3,
   "metadata": {},
   "outputs": [],
   "source": [
    "IMG_PATH = \"images\""
   ]
  },
  {
   "cell_type": "code",
   "execution_count": 4,
   "metadata": {},
   "outputs": [],
   "source": [
    "result = [[y.split(\"/\")[-2],os.path.join(y.split(\"/\")[-2],y.split(\"/\")[-1])] for x in os.walk(IMG_PATH) for y in glob(os.path.join(x[0], '*.jpg'))]"
   ]
  },
  {
   "cell_type": "code",
   "execution_count": 5,
   "metadata": {},
   "outputs": [
    {
     "data": {
      "text/plain": [
       "['vacuole', 'vacuole/vacuole.205.jpg']"
      ]
     },
     "execution_count": 5,
     "metadata": {},
     "output_type": "execute_result"
    }
   ],
   "source": [
    "result[0]"
   ]
  },
  {
   "cell_type": "code",
   "execution_count": 6,
   "metadata": {},
   "outputs": [],
   "source": [
    "image_df = pd.DataFrame(result, columns = ['label', 'filename'])"
   ]
  },
  {
   "cell_type": "code",
   "execution_count": 7,
   "metadata": {},
   "outputs": [
    {
     "data": {
      "text/plain": [
       "array(['vacuole', 'periphery', 'cytosol', 'mitochondrion',\n",
       "       'endoplasmic_reticulum', 'golgi', 'nucleus', 'microtubules',\n",
       "       'cytosol_and_nucleus'], dtype=object)"
      ]
     },
     "execution_count": 7,
     "metadata": {},
     "output_type": "execute_result"
    }
   ],
   "source": [
    "image_df['label'].unique()"
   ]
  },
  {
   "cell_type": "code",
   "execution_count": 8,
   "metadata": {},
   "outputs": [
    {
     "data": {
      "text/plain": [
       "<AxesSubplot:>"
      ]
     },
     "execution_count": 8,
     "metadata": {},
     "output_type": "execute_result"
    },
    {
     "data": {
      "image/png": "[encoded data removed]",
      "text/plain": [
       "<Figure size 432x288 with 1 Axes>"
      ]
     },
     "metadata": {
      "needs_background": "light"
     },
     "output_type": "display_data"
    }
   ],
   "source": [
    "image_df['label'].value_counts().sort_values().plot(kind = 'barh')"
   ]
  },
  {
   "cell_type": "code",
   "execution_count": 9,
   "metadata": {},
   "outputs": [
    {
     "data": {
      "text/plain": [
       "microtubules               64\n",
       "periphery                 263\n",
       "vacuole                   347\n",
       "golgi                     494\n",
       "mitochondrion             591\n",
       "cytosol                   743\n",
       "endoplasmic_reticulum    1660\n",
       "nucleus                  2984\n",
       "cytosol_and_nucleus      5416\n",
       "Name: label, dtype: int64"
      ]
     },
     "execution_count": 9,
     "metadata": {},
     "output_type": "execute_result"
    }
   ],
   "source": [
    "image_df['label'].value_counts().sort_values()"
   ]
  },
  {
   "cell_type": "code",
   "execution_count": 10,
   "metadata": {},
   "outputs": [],
   "source": [
    "# split df into train and test\n",
    "train_df, validation_df = train_test_split(image_df, test_size=0.05)\n",
    "train_df, test_df = train_test_split(train_df, test_size=0.05)"
   ]
  },
  {
   "cell_type": "code",
   "execution_count": 11,
   "metadata": {},
   "outputs": [],
   "source": [
    "train_df = train_df.reset_index(drop = True)\n",
    "test_df = test_df.reset_index(drop = True)\n",
    "validation_df = validation_df.reset_index(drop = True)"
   ]
  },
  {
   "cell_type": "code",
   "execution_count": 12,
   "metadata": {},
   "outputs": [
    {
     "data": {
      "text/html": [
       "<div>\n",
       "<style scoped>\n",
       "    .dataframe tbody tr th:only-of-type {\n",
       "        vertical-align: middle;\n",
       "    }\n",
       "\n",
       "    .dataframe tbody tr th {\n",
       "        vertical-align: top;\n",
       "    }\n",
       "\n",
       "    .dataframe thead th {\n",
       "        text-align: right;\n",
       "    }\n",
       "</style>\n",
       "<table border=\"1\" class=\"dataframe\">\n",
       "  <thead>\n",
       "    <tr style=\"text-align: right;\">\n",
       "      <th></th>\n",
       "      <th>label</th>\n",
       "      <th>filename</th>\n",
       "    </tr>\n",
       "  </thead>\n",
       "  <tbody>\n",
       "    <tr>\n",
       "      <th>0</th>\n",
       "      <td>endoplasmic_reticulum</td>\n",
       "      <td>endoplasmic_reticulum/endoplasmic_reticulum.14...</td>\n",
       "    </tr>\n",
       "    <tr>\n",
       "      <th>1</th>\n",
       "      <td>endoplasmic_reticulum</td>\n",
       "      <td>endoplasmic_reticulum/endoplasmic_reticulum.15...</td>\n",
       "    </tr>\n",
       "    <tr>\n",
       "      <th>2</th>\n",
       "      <td>endoplasmic_reticulum</td>\n",
       "      <td>endoplasmic_reticulum/endoplasmic_reticulum.64...</td>\n",
       "    </tr>\n",
       "    <tr>\n",
       "      <th>3</th>\n",
       "      <td>nucleus</td>\n",
       "      <td>nucleus/nucleus.2285.jpg</td>\n",
       "    </tr>\n",
       "    <tr>\n",
       "      <th>4</th>\n",
       "      <td>cytosol_and_nucleus</td>\n",
       "      <td>cytosol_and_nucleus/cytosol_and_nucleus.3063.jpg</td>\n",
       "    </tr>\n",
       "  </tbody>\n",
       "</table>\n",
       "</div>"
      ],
      "text/plain": [
       "                   label                                           filename\n",
       "0  endoplasmic_reticulum  endoplasmic_reticulum/endoplasmic_reticulum.14...\n",
       "1  endoplasmic_reticulum  endoplasmic_reticulum/endoplasmic_reticulum.15...\n",
       "2  endoplasmic_reticulum  endoplasmic_reticulum/endoplasmic_reticulum.64...\n",
       "3                nucleus                           nucleus/nucleus.2285.jpg\n",
       "4    cytosol_and_nucleus   cytosol_and_nucleus/cytosol_and_nucleus.3063.jpg"
      ]
     },
     "execution_count": 12,
     "metadata": {},
     "output_type": "execute_result"
    }
   ],
   "source": [
    "train_df.head()"
   ]
  },
  {
   "cell_type": "code",
   "execution_count": 13,
   "metadata": {},
   "outputs": [
    {
     "data": {
      "text/plain": [
       "{'cytosol_and_nucleus': 4892,\n",
       " 'nucleus': 2722,\n",
       " 'endoplasmic_reticulum': 1491,\n",
       " 'cytosol': 664,\n",
       " 'mitochondrion': 528,\n",
       " 'golgi': 436,\n",
       " 'vacuole': 303,\n",
       " 'periphery': 240,\n",
       " 'microtubules': 60}"
      ]
     },
     "execution_count": 13,
     "metadata": {},
     "output_type": "execute_result"
    }
   ],
   "source": [
    "train_count_dict = dict(train_df['label'].value_counts())\n",
    "train_count_dict"
   ]
  },
  {
   "cell_type": "code",
   "execution_count": 14,
   "metadata": {},
   "outputs": [
    {
     "data": {
      "text/plain": [
       "{'cytosol_and_nucleus': 266,\n",
       " 'nucleus': 120,\n",
       " 'endoplasmic_reticulum': 74,\n",
       " 'cytosol': 46,\n",
       " 'mitochondrion': 29,\n",
       " 'golgi': 28,\n",
       " 'vacuole': 21,\n",
       " 'periphery': 11,\n",
       " 'microtubules': 2}"
      ]
     },
     "execution_count": 14,
     "metadata": {},
     "output_type": "execute_result"
    }
   ],
   "source": [
    "test_count_dict = dict(test_df['label'].value_counts())\n",
    "test_count_dict"
   ]
  },
  {
   "cell_type": "code",
   "execution_count": 15,
   "metadata": {},
   "outputs": [
    {
     "data": {
      "text/plain": [
       "{'cytosol_and_nucleus': 258,\n",
       " 'nucleus': 142,\n",
       " 'endoplasmic_reticulum': 95,\n",
       " 'mitochondrion': 34,\n",
       " 'cytosol': 33,\n",
       " 'golgi': 30,\n",
       " 'vacuole': 23,\n",
       " 'periphery': 12,\n",
       " 'microtubules': 2}"
      ]
     },
     "execution_count": 15,
     "metadata": {},
     "output_type": "execute_result"
    }
   ],
   "source": [
    "validation_count_dict = dict(validation_df['label'].value_counts())\n",
    "validation_count_dict"
   ]
  },
  {
   "cell_type": "code",
   "execution_count": 15,
   "metadata": {},
   "outputs": [
    {
     "data": {
      "text/html": [
       "<div>\n",
       "<style scoped>\n",
       "    .dataframe tbody tr th:only-of-type {\n",
       "        vertical-align: middle;\n",
       "    }\n",
       "\n",
       "    .dataframe tbody tr th {\n",
       "        vertical-align: top;\n",
       "    }\n",
       "\n",
       "    .dataframe thead th {\n",
       "        text-align: right;\n",
       "    }\n",
       "</style>\n",
       "<table border=\"1\" class=\"dataframe\">\n",
       "  <thead>\n",
       "    <tr style=\"text-align: right;\">\n",
       "      <th></th>\n",
       "      <th>label</th>\n",
       "      <th>filename</th>\n",
       "    </tr>\n",
       "  </thead>\n",
       "  <tbody>\n",
       "    <tr>\n",
       "      <th>0</th>\n",
       "      <td>endoplasmic_reticulum</td>\n",
       "      <td>endoplasmic_reticulum/endoplasmic_reticulum.14...</td>\n",
       "    </tr>\n",
       "    <tr>\n",
       "      <th>1</th>\n",
       "      <td>endoplasmic_reticulum</td>\n",
       "      <td>endoplasmic_reticulum/endoplasmic_reticulum.15...</td>\n",
       "    </tr>\n",
       "    <tr>\n",
       "      <th>2</th>\n",
       "      <td>endoplasmic_reticulum</td>\n",
       "      <td>endoplasmic_reticulum/endoplasmic_reticulum.64...</td>\n",
       "    </tr>\n",
       "    <tr>\n",
       "      <th>3</th>\n",
       "      <td>nucleus</td>\n",
       "      <td>nucleus/nucleus.2285.jpg</td>\n",
       "    </tr>\n",
       "    <tr>\n",
       "      <th>4</th>\n",
       "      <td>cytosol_and_nucleus</td>\n",
       "      <td>cytosol_and_nucleus/cytosol_and_nucleus.3063.jpg</td>\n",
       "    </tr>\n",
       "    <tr>\n",
       "      <th>...</th>\n",
       "      <td>...</td>\n",
       "      <td>...</td>\n",
       "    </tr>\n",
       "    <tr>\n",
       "      <th>11331</th>\n",
       "      <td>cytosol_and_nucleus</td>\n",
       "      <td>cytosol_and_nucleus/cytosol_and_nucleus.4066.jpg</td>\n",
       "    </tr>\n",
       "    <tr>\n",
       "      <th>11332</th>\n",
       "      <td>cytosol_and_nucleus</td>\n",
       "      <td>cytosol_and_nucleus/cytosol_and_nucleus.3730.jpg</td>\n",
       "    </tr>\n",
       "    <tr>\n",
       "      <th>11333</th>\n",
       "      <td>nucleus</td>\n",
       "      <td>nucleus/nucleus.670.jpg</td>\n",
       "    </tr>\n",
       "    <tr>\n",
       "      <th>11334</th>\n",
       "      <td>cytosol_and_nucleus</td>\n",
       "      <td>cytosol_and_nucleus/cytosol_and_nucleus.4173.jpg</td>\n",
       "    </tr>\n",
       "    <tr>\n",
       "      <th>11335</th>\n",
       "      <td>cytosol_and_nucleus</td>\n",
       "      <td>cytosol_and_nucleus/cytosol_and_nucleus.650.jpg</td>\n",
       "    </tr>\n",
       "  </tbody>\n",
       "</table>\n",
       "<p>11336 rows × 2 columns</p>\n",
       "</div>"
      ],
      "text/plain": [
       "                       label  \\\n",
       "0      endoplasmic_reticulum   \n",
       "1      endoplasmic_reticulum   \n",
       "2      endoplasmic_reticulum   \n",
       "3                    nucleus   \n",
       "4        cytosol_and_nucleus   \n",
       "...                      ...   \n",
       "11331    cytosol_and_nucleus   \n",
       "11332    cytosol_and_nucleus   \n",
       "11333                nucleus   \n",
       "11334    cytosol_and_nucleus   \n",
       "11335    cytosol_and_nucleus   \n",
       "\n",
       "                                                filename  \n",
       "0      endoplasmic_reticulum/endoplasmic_reticulum.14...  \n",
       "1      endoplasmic_reticulum/endoplasmic_reticulum.15...  \n",
       "2      endoplasmic_reticulum/endoplasmic_reticulum.64...  \n",
       "3                               nucleus/nucleus.2285.jpg  \n",
       "4       cytosol_and_nucleus/cytosol_and_nucleus.3063.jpg  \n",
       "...                                                  ...  \n",
       "11331   cytosol_and_nucleus/cytosol_and_nucleus.4066.jpg  \n",
       "11332   cytosol_and_nucleus/cytosol_and_nucleus.3730.jpg  \n",
       "11333                            nucleus/nucleus.670.jpg  \n",
       "11334   cytosol_and_nucleus/cytosol_and_nucleus.4173.jpg  \n",
       "11335    cytosol_and_nucleus/cytosol_and_nucleus.650.jpg  \n",
       "\n",
       "[11336 rows x 2 columns]"
      ]
     },
     "execution_count": 15,
     "metadata": {},
     "output_type": "execute_result"
    }
   ],
   "source": [
    "upsampled_train_df = train_df.copy()\n",
    "upsampled_train_df"
   ]
  },
  {
   "cell_type": "code",
   "execution_count": 16,
   "metadata": {},
   "outputs": [],
   "source": [
    "for organelle in train_count_dict:\n",
    "    if train_count_dict[organelle] < 500:\n",
    "        upsampled_train_df = pd.concat([upsampled_train_df, resample(upsampled_train_df[upsampled_train_df['label'] == organelle], replace=True, n_samples=500 - train_count_dict[organelle], random_state = 42)])"
   ]
  },
  {
   "cell_type": "code",
   "execution_count": 17,
   "metadata": {},
   "outputs": [
    {
     "data": {
      "text/plain": [
       "cytosol_and_nucleus      4892\n",
       "nucleus                  2722\n",
       "endoplasmic_reticulum    1491\n",
       "cytosol                   664\n",
       "mitochondrion             528\n",
       "microtubules              500\n",
       "periphery                 500\n",
       "golgi                     500\n",
       "vacuole                   500\n",
       "Name: label, dtype: int64"
      ]
     },
     "execution_count": 17,
     "metadata": {},
     "output_type": "execute_result"
    }
   ],
   "source": [
    "upsampled_train_df['label'].value_counts()"
   ]
  },
  {
   "cell_type": "code",
   "execution_count": 18,
   "metadata": {},
   "outputs": [],
   "source": [
    "downsampled_train_df = pd.DataFrame(columns = ['label', 'filename'])"
   ]
  },
  {
   "cell_type": "code",
   "execution_count": 19,
   "metadata": {},
   "outputs": [],
   "source": [
    "for organelle in train_count_dict:\n",
    "    if train_count_dict[organelle] < 3000 and train_count_dict[organelle] >= 500:\n",
    "        row_count = train_count_dict[organelle]\n",
    "    elif train_count_dict[organelle] < 500:\n",
    "        row_count = 500\n",
    "    else:\n",
    "        row_count = 3000\n",
    "    downsampled_train_df = pd.concat([downsampled_train_df, resample(upsampled_train_df[upsampled_train_df['label'] == organelle], replace=False, n_samples=row_count, random_state = 42)])"
   ]
  },
  {
   "cell_type": "code",
   "execution_count": 20,
   "metadata": {},
   "outputs": [
    {
     "data": {
      "text/plain": [
       "cytosol_and_nucleus      3000\n",
       "nucleus                  2722\n",
       "endoplasmic_reticulum    1491\n",
       "cytosol                   664\n",
       "mitochondrion             528\n",
       "microtubules              500\n",
       "periphery                 500\n",
       "golgi                     500\n",
       "vacuole                   500\n",
       "Name: label, dtype: int64"
      ]
     },
     "execution_count": 20,
     "metadata": {},
     "output_type": "execute_result"
    }
   ],
   "source": [
    "downsampled_train_df['label'].value_counts()"
   ]
  },
  {
   "cell_type": "code",
   "execution_count": 21,
   "metadata": {},
   "outputs": [
    {
     "data": {
      "text/html": [
       "<div>\n",
       "<style scoped>\n",
       "    .dataframe tbody tr th:only-of-type {\n",
       "        vertical-align: middle;\n",
       "    }\n",
       "\n",
       "    .dataframe tbody tr th {\n",
       "        vertical-align: top;\n",
       "    }\n",
       "\n",
       "    .dataframe thead th {\n",
       "        text-align: right;\n",
       "    }\n",
       "</style>\n",
       "<table border=\"1\" class=\"dataframe\">\n",
       "  <thead>\n",
       "    <tr style=\"text-align: right;\">\n",
       "      <th></th>\n",
       "      <th>label</th>\n",
       "      <th>filename</th>\n",
       "    </tr>\n",
       "  </thead>\n",
       "  <tbody>\n",
       "    <tr>\n",
       "      <th>328</th>\n",
       "      <td>cytosol_and_nucleus</td>\n",
       "      <td>cytosol_and_nucleus/cytosol_and_nucleus.3108.jpg</td>\n",
       "    </tr>\n",
       "    <tr>\n",
       "      <th>196</th>\n",
       "      <td>cytosol_and_nucleus</td>\n",
       "      <td>cytosol_and_nucleus/cytosol_and_nucleus.4315.jpg</td>\n",
       "    </tr>\n",
       "    <tr>\n",
       "      <th>6135</th>\n",
       "      <td>cytosol_and_nucleus</td>\n",
       "      <td>cytosol_and_nucleus/cytosol_and_nucleus.3512.jpg</td>\n",
       "    </tr>\n",
       "    <tr>\n",
       "      <th>10197</th>\n",
       "      <td>cytosol_and_nucleus</td>\n",
       "      <td>cytosol_and_nucleus/cytosol_and_nucleus.3596.jpg</td>\n",
       "    </tr>\n",
       "    <tr>\n",
       "      <th>5617</th>\n",
       "      <td>cytosol_and_nucleus</td>\n",
       "      <td>cytosol_and_nucleus/cytosol_and_nucleus.2951.jpg</td>\n",
       "    </tr>\n",
       "    <tr>\n",
       "      <th>...</th>\n",
       "      <td>...</td>\n",
       "      <td>...</td>\n",
       "    </tr>\n",
       "    <tr>\n",
       "      <th>9344</th>\n",
       "      <td>microtubules</td>\n",
       "      <td>microtubules/microtubules.6.jpg</td>\n",
       "    </tr>\n",
       "    <tr>\n",
       "      <th>830</th>\n",
       "      <td>microtubules</td>\n",
       "      <td>microtubules/microtubules.57.jpg</td>\n",
       "    </tr>\n",
       "    <tr>\n",
       "      <th>10574</th>\n",
       "      <td>microtubules</td>\n",
       "      <td>microtubules/microtubules.10.jpg</td>\n",
       "    </tr>\n",
       "    <tr>\n",
       "      <th>4403</th>\n",
       "      <td>microtubules</td>\n",
       "      <td>microtubules/microtubules.44.jpg</td>\n",
       "    </tr>\n",
       "    <tr>\n",
       "      <th>3156</th>\n",
       "      <td>microtubules</td>\n",
       "      <td>microtubules/microtubules.23.jpg</td>\n",
       "    </tr>\n",
       "  </tbody>\n",
       "</table>\n",
       "<p>10405 rows × 2 columns</p>\n",
       "</div>"
      ],
      "text/plain": [
       "                     label                                          filename\n",
       "328    cytosol_and_nucleus  cytosol_and_nucleus/cytosol_and_nucleus.3108.jpg\n",
       "196    cytosol_and_nucleus  cytosol_and_nucleus/cytosol_and_nucleus.4315.jpg\n",
       "6135   cytosol_and_nucleus  cytosol_and_nucleus/cytosol_and_nucleus.3512.jpg\n",
       "10197  cytosol_and_nucleus  cytosol_and_nucleus/cytosol_and_nucleus.3596.jpg\n",
       "5617   cytosol_and_nucleus  cytosol_and_nucleus/cytosol_and_nucleus.2951.jpg\n",
       "...                    ...                                               ...\n",
       "9344          microtubules                   microtubules/microtubules.6.jpg\n",
       "830           microtubules                  microtubules/microtubules.57.jpg\n",
       "10574         microtubules                  microtubules/microtubules.10.jpg\n",
       "4403          microtubules                  microtubules/microtubules.44.jpg\n",
       "3156          microtubules                  microtubules/microtubules.23.jpg\n",
       "\n",
       "[10405 rows x 2 columns]"
      ]
     },
     "execution_count": 21,
     "metadata": {},
     "output_type": "execute_result"
    }
   ],
   "source": [
    "downsampled_train_df"
   ]
  },
  {
   "cell_type": "code",
   "execution_count": 24,
   "metadata": {},
   "outputs": [],
   "source": [
    "conv_base = tf.keras.applications.MobileNetV2(\n",
    "    include_top=False, weights='imagenet', input_tensor=None,\n",
    "    input_shape=(224,224,3)\n",
    ")\n",
    "\n",
    "pombEye_mobilenetv2 = tf.keras.models.Sequential()\n",
    "\n",
    "pombEye_mobilenetv2.add(conv_base)\n",
    "\n",
    "pombEye_mobilenetv2.add(tf.keras.layers.GlobalAveragePooling2D())\n",
    "pombEye_mobilenetv2.add(tf.keras.layers.Dropout(0.2))\n",
    "pombEye_mobilenetv2.add(tf.keras.layers.Dense(len(downsampled_train_df['label'].unique())))\n",
    "pombEye_mobilenetv2.add(tf.keras.layers.Activation('softmax', dtype='float32', name='pombEye_prediction'))\n"
   ]
  },
  {
   "cell_type": "code",
   "execution_count": 25,
   "metadata": {},
   "outputs": [
    {
     "name": "stdout",
     "output_type": "stream",
     "text": [
      "input_1\n",
      "Conv1_pad\n",
      "Conv1\n",
      "bn_Conv1\n",
      "Conv1_relu\n",
      "expanded_conv_depthwise\n",
      "expanded_conv_depthwise_BN\n",
      "expanded_conv_depthwise_relu\n",
      "expanded_conv_project\n",
      "expanded_conv_project_BN\n",
      "block_1_expand\n",
      "block_1_expand_BN\n",
      "block_1_expand_relu\n",
      "block_1_pad\n",
      "block_1_depthwise\n",
      "block_1_depthwise_BN\n",
      "block_1_depthwise_relu\n",
      "block_1_project\n",
      "block_1_project_BN\n",
      "block_2_expand\n",
      "block_2_expand_BN\n",
      "block_2_expand_relu\n",
      "block_2_depthwise\n",
      "block_2_depthwise_BN\n",
      "block_2_depthwise_relu\n",
      "block_2_project\n",
      "block_2_project_BN\n",
      "block_2_add\n",
      "block_3_expand\n",
      "block_3_expand_BN\n",
      "block_3_expand_relu\n",
      "block_3_pad\n",
      "block_3_depthwise\n",
      "block_3_depthwise_BN\n",
      "block_3_depthwise_relu\n",
      "block_3_project\n",
      "block_3_project_BN\n",
      "block_4_expand\n",
      "block_4_expand_BN\n",
      "block_4_expand_relu\n",
      "block_4_depthwise\n",
      "block_4_depthwise_BN\n",
      "block_4_depthwise_relu\n",
      "block_4_project\n",
      "block_4_project_BN\n",
      "block_4_add\n",
      "block_5_expand\n",
      "block_5_expand_BN\n",
      "block_5_expand_relu\n",
      "block_5_depthwise\n",
      "block_5_depthwise_BN\n",
      "block_5_depthwise_relu\n",
      "block_5_project\n",
      "block_5_project_BN\n",
      "block_5_add\n",
      "block_6_expand\n",
      "block_6_expand_BN\n",
      "block_6_expand_relu\n",
      "block_6_pad\n",
      "block_6_depthwise\n",
      "block_6_depthwise_BN\n",
      "block_6_depthwise_relu\n",
      "block_6_project\n",
      "block_6_project_BN\n",
      "block_7_expand\n",
      "block_7_expand_BN\n",
      "block_7_expand_relu\n",
      "block_7_depthwise\n",
      "block_7_depthwise_BN\n",
      "block_7_depthwise_relu\n",
      "block_7_project\n",
      "block_7_project_BN\n",
      "block_7_add\n",
      "block_8_expand\n",
      "block_8_expand_BN\n",
      "block_8_expand_relu\n",
      "block_8_depthwise\n",
      "block_8_depthwise_BN\n",
      "block_8_depthwise_relu\n",
      "block_8_project\n",
      "block_8_project_BN\n",
      "block_8_add\n",
      "block_9_expand\n",
      "block_9_expand_BN\n",
      "block_9_expand_relu\n",
      "block_9_depthwise\n",
      "block_9_depthwise_BN\n",
      "block_9_depthwise_relu\n",
      "block_9_project\n",
      "block_9_project_BN\n",
      "block_9_add\n",
      "block_10_expand\n",
      "block_10_expand_BN\n",
      "block_10_expand_relu\n",
      "block_10_depthwise\n",
      "block_10_depthwise_BN\n",
      "block_10_depthwise_relu\n",
      "block_10_project\n",
      "block_10_project_BN\n",
      "block_11_expand\n",
      "block_11_expand_BN\n",
      "block_11_expand_relu\n",
      "block_11_depthwise\n",
      "block_11_depthwise_BN\n",
      "block_11_depthwise_relu\n",
      "block_11_project\n",
      "block_11_project_BN\n",
      "block_11_add\n",
      "block_12_expand\n",
      "block_12_expand_BN\n",
      "block_12_expand_relu\n",
      "block_12_depthwise\n",
      "block_12_depthwise_BN\n",
      "block_12_depthwise_relu\n",
      "block_12_project\n",
      "block_12_project_BN\n",
      "block_12_add\n",
      "block_13_expand\n",
      "block_13_expand_BN\n",
      "block_13_expand_relu\n",
      "block_13_pad\n",
      "block_13_depthwise\n",
      "block_13_depthwise_BN\n",
      "block_13_depthwise_relu\n",
      "block_13_project\n",
      "block_13_project_BN\n",
      "block_14_expand\n",
      "block_14_expand_BN\n",
      "block_14_expand_relu\n",
      "block_14_depthwise\n",
      "block_14_depthwise_BN\n",
      "block_14_depthwise_relu\n",
      "block_14_project\n",
      "block_14_project_BN\n",
      "block_14_add\n",
      "block_15_expand\n",
      "block_15_expand_BN\n",
      "block_15_expand_relu\n",
      "block_15_depthwise\n",
      "block_15_depthwise_BN\n",
      "block_15_depthwise_relu\n",
      "block_15_project\n",
      "block_15_project_BN\n",
      "block_15_add\n",
      "block_16_expand\n",
      "block_16_expand_BN\n",
      "block_16_expand_relu\n",
      "block_16_depthwise\n",
      "block_16_depthwise_BN\n",
      "block_16_depthwise_relu\n",
      "block_16_project\n",
      "block_16_project_BN\n",
      "Conv_1\n",
      "Conv_1_bn\n",
      "out_relu\n"
     ]
    }
   ],
   "source": [
    "for layer in conv_base.layers:\n",
    "    print(layer.name)"
   ]
  },
  {
   "cell_type": "code",
   "execution_count": 26,
   "metadata": {},
   "outputs": [
    {
     "name": "stdout",
     "output_type": "stream",
     "text": [
      "Model: \"sequential\"\n",
      "_________________________________________________________________\n",
      "Layer (type)                 Output Shape              Param #   \n",
      "=================================================================\n",
      "mobilenetv2_1.00_224 (Model) (None, 7, 7, 1280)        2257984   \n",
      "_________________________________________________________________\n",
      "global_average_pooling2d (Gl (None, 1280)              0         \n",
      "_________________________________________________________________\n",
      "dropout (Dropout)            (None, 1280)              0         \n",
      "_________________________________________________________________\n",
      "dense (Dense)                (None, 9)                 11529     \n",
      "_________________________________________________________________\n",
      "pombEye_prediction (Activati (None, 9)                 0         \n",
      "=================================================================\n",
      "Total params: 2,269,513\n",
      "Trainable params: 2,235,401\n",
      "Non-trainable params: 34,112\n",
      "_________________________________________________________________\n"
     ]
    }
   ],
   "source": [
    "pombEye_mobilenetv2.summary()"
   ]
  },
  {
   "cell_type": "code",
   "execution_count": 27,
   "metadata": {},
   "outputs": [],
   "source": [
    "conv_base.trainable = False"
   ]
  },
  {
   "cell_type": "code",
   "execution_count": 28,
   "metadata": {},
   "outputs": [
    {
     "name": "stdout",
     "output_type": "stream",
     "text": [
      "Model: \"sequential\"\n",
      "_________________________________________________________________\n",
      "Layer (type)                 Output Shape              Param #   \n",
      "=================================================================\n",
      "mobilenetv2_1.00_224 (Model) (None, 7, 7, 1280)        2257984   \n",
      "_________________________________________________________________\n",
      "global_average_pooling2d (Gl (None, 1280)              0         \n",
      "_________________________________________________________________\n",
      "dropout (Dropout)            (None, 1280)              0         \n",
      "_________________________________________________________________\n",
      "dense (Dense)                (None, 9)                 11529     \n",
      "_________________________________________________________________\n",
      "pombEye_prediction (Activati (None, 9)                 0         \n",
      "=================================================================\n",
      "Total params: 2,269,513\n",
      "Trainable params: 11,529\n",
      "Non-trainable params: 2,257,984\n",
      "_________________________________________________________________\n"
     ]
    }
   ],
   "source": [
    "pombEye_mobilenetv2.summary()"
   ]
  },
  {
   "cell_type": "code",
   "execution_count": 20,
   "metadata": {
    "collapsed": true
   },
   "outputs": [
    {
     "ename": "NameError",
     "evalue": "name 'downsampled_train_df' is not defined",
     "output_type": "error",
     "traceback": [
      "\u001b[0;31m---------------------------------------------------------------------------\u001b[0m",
      "\u001b[0;31mNameError\u001b[0m                                 Traceback (most recent call last)",
      "\u001b[0;32m<ipython-input-20-ae4e2821296a>\u001b[0m in \u001b[0;36m<module>\u001b[0;34m\u001b[0m\n\u001b[1;32m     16\u001b[0m \u001b[0;34m\u001b[0m\u001b[0m\n\u001b[1;32m     17\u001b[0m train_generator=train_datagen.flow_from_dataframe(\n\u001b[0;32m---> 18\u001b[0;31m \u001b[0mdataframe\u001b[0m\u001b[0;34m=\u001b[0m\u001b[0mdownsampled_train_df\u001b[0m\u001b[0;34m,\u001b[0m\u001b[0;34m\u001b[0m\u001b[0;34m\u001b[0m\u001b[0m\n\u001b[0m\u001b[1;32m     19\u001b[0m \u001b[0mdirectory\u001b[0m\u001b[0;34m=\u001b[0m\u001b[0;34m\"/data/Linux/pombEye/pombEye/images\"\u001b[0m\u001b[0;34m,\u001b[0m\u001b[0;34m\u001b[0m\u001b[0;34m\u001b[0m\u001b[0m\n\u001b[1;32m     20\u001b[0m \u001b[0mx_col\u001b[0m\u001b[0;34m=\u001b[0m\u001b[0;34m\"filename\"\u001b[0m\u001b[0;34m,\u001b[0m\u001b[0;34m\u001b[0m\u001b[0;34m\u001b[0m\u001b[0m\n",
      "\u001b[0;31mNameError\u001b[0m: name 'downsampled_train_df' is not defined"
     ]
    }
   ],
   "source": [
    "train_datagen = tf.keras.preprocessing.image.ImageDataGenerator(\n",
    "rescale = 1./255,\n",
    "horizontal_flip = True,\n",
    "vertical_flip = True,\n",
    "rotation_range=360,\n",
    "width_shift_range=0.3,\n",
    "height_shift_range=0.3,\n",
    "brightness_range=[0.8,1.2],\n",
    "zoom_range=[0.8, 1.2],\n",
    "fill_mode=\"constant\",\n",
    "cval=20.0)\n",
    "\n",
    "valid_datagen = tf.keras.preprocessing.image.ImageDataGenerator(rescale=1./255) \n",
    "\n",
    "batchSize = 128\n",
    "\n",
    "train_generator=train_datagen.flow_from_dataframe(\n",
    "dataframe=downsampled_train_df,\n",
    "directory=\"/data/Linux/pombEye/pombEye/images\",\n",
    "x_col=\"filename\",\n",
    "y_col='label',\n",
    "batch_size=batchSize,\n",
    "seed=42,\n",
    "shuffle=True,\n",
    "class_mode='categorical',\n",
    "target_size=(224,224))\n",
    "\n",
    "valid_generator=valid_datagen.flow_from_dataframe(\n",
    "dataframe=validation_df,\n",
    "directory=\"/data/Linux/pombEye/pombEye/images\",\n",
    "x_col=\"filename\",\n",
    "y_col='label',\n",
    "batch_size=batchSize,\n",
    "seed=42,\n",
    "shuffle=True,\n",
    "class_mode='categorical',\n",
    "target_size=(224,224))"
   ]
  },
  {
   "cell_type": "code",
   "execution_count": 30,
   "metadata": {},
   "outputs": [],
   "source": [
    "pombEye_mobilenetv2.compile(optimizer= tf.keras.optimizers.Adam(learning_rate=0.0001),\n",
    "          loss = \"categorical_crossentropy\",\n",
    "          metrics = ['accuracy']) "
   ]
  },
  {
   "cell_type": "code",
   "execution_count": 31,
   "metadata": {},
   "outputs": [],
   "source": [
    "reduce_lr = tf.keras.callbacks.ReduceLROnPlateau(monitor='val_loss', factor=0.3,\n",
    "                              patience=3, verbose = 1)\n",
    "\n",
    "early_stopping_cb = tf.keras.callbacks.EarlyStopping(monitor='val_loss',patience=7, restore_best_weights=True)\n",
    "\n",
    "checkpoint = tf.keras.callbacks.ModelCheckpoint(\"pombEye_mobilenetv2.h5\", monitor='val_loss', verbose=1, \n",
    "                                                save_best_only=True, save_weights_only=False, mode='auto', save_freq='epoch')\n",
    "\n",
    "log_dir = \"logs/fit/\" + datetime.datetime.now().strftime(\"%Y%m%d-%H%M%S\")\n",
    "tensorboard_cb = tf.keras.callbacks.TensorBoard(log_dir=log_dir, histogram_freq=1)"
   ]
  },
  {
   "cell_type": "code",
   "execution_count": 32,
   "metadata": {},
   "outputs": [
    {
     "name": "stdout",
     "output_type": "stream",
     "text": [
      "Epoch 1/30\n",
      "81/81 [==============================] - ETA: 0s - loss: 1.9623 - accuracy: 0.3425\n",
      "Epoch 00001: val_loss improved from inf to 1.49823, saving model to pombEye_mobilenetv2.h5\n",
      "81/81 [==============================] - 65s 799ms/step - loss: 1.9623 - accuracy: 0.3425 - val_loss: 1.4982 - val_accuracy: 0.5645 - lr: 1.0000e-04\n",
      "Epoch 2/30\n",
      "81/81 [==============================] - ETA: 0s - loss: 1.5205 - accuracy: 0.5036\n",
      "Epoch 00002: val_loss improved from 1.49823 to 1.26653, saving model to pombEye_mobilenetv2.h5\n",
      "81/81 [==============================] - 65s 802ms/step - loss: 1.5205 - accuracy: 0.5036 - val_loss: 1.2665 - val_accuracy: 0.6250 - lr: 1.0000e-04\n",
      "Epoch 3/30\n",
      "81/81 [==============================] - ETA: 0s - loss: 1.3367 - accuracy: 0.5628\n",
      "Epoch 00003: val_loss improved from 1.26653 to 1.13462, saving model to pombEye_mobilenetv2.h5\n",
      "81/81 [==============================] - 65s 797ms/step - loss: 1.3367 - accuracy: 0.5628 - val_loss: 1.1346 - val_accuracy: 0.6719 - lr: 1.0000e-04\n",
      "Epoch 4/30\n",
      "81/81 [==============================] - ETA: 0s - loss: 1.2220 - accuracy: 0.5968\n",
      "Epoch 00004: val_loss improved from 1.13462 to 1.04941, saving model to pombEye_mobilenetv2.h5\n",
      "81/81 [==============================] - 63s 783ms/step - loss: 1.2220 - accuracy: 0.5968 - val_loss: 1.0494 - val_accuracy: 0.6875 - lr: 1.0000e-04\n",
      "Epoch 5/30\n",
      "81/81 [==============================] - ETA: 0s - loss: 1.1502 - accuracy: 0.6161\n",
      "Epoch 00005: val_loss improved from 1.04941 to 1.00105, saving model to pombEye_mobilenetv2.h5\n",
      "81/81 [==============================] - 63s 784ms/step - loss: 1.1502 - accuracy: 0.6161 - val_loss: 1.0010 - val_accuracy: 0.6836 - lr: 1.0000e-04\n",
      "Epoch 6/30\n",
      "81/81 [==============================] - ETA: 0s - loss: 1.0897 - accuracy: 0.6352\n",
      "Epoch 00006: val_loss improved from 1.00105 to 0.95323, saving model to pombEye_mobilenetv2.h5\n",
      "81/81 [==============================] - 63s 783ms/step - loss: 1.0897 - accuracy: 0.6352 - val_loss: 0.9532 - val_accuracy: 0.7090 - lr: 1.0000e-04\n",
      "Epoch 7/30\n",
      "81/81 [==============================] - ETA: 0s - loss: 1.0368 - accuracy: 0.6532\n",
      "Epoch 00007: val_loss improved from 0.95323 to 0.90696, saving model to pombEye_mobilenetv2.h5\n",
      "81/81 [==============================] - 63s 780ms/step - loss: 1.0368 - accuracy: 0.6532 - val_loss: 0.9070 - val_accuracy: 0.7207 - lr: 1.0000e-04\n",
      "Epoch 8/30\n",
      "81/81 [==============================] - ETA: 0s - loss: 0.9862 - accuracy: 0.6650\n",
      "Epoch 00008: val_loss improved from 0.90696 to 0.87688, saving model to pombEye_mobilenetv2.h5\n",
      "81/81 [==============================] - 63s 779ms/step - loss: 0.9862 - accuracy: 0.6650 - val_loss: 0.8769 - val_accuracy: 0.7207 - lr: 1.0000e-04\n",
      "Epoch 9/30\n",
      "81/81 [==============================] - ETA: 0s - loss: 0.9727 - accuracy: 0.6668\n",
      "Epoch 00009: val_loss improved from 0.87688 to 0.87463, saving model to pombEye_mobilenetv2.h5\n",
      "81/81 [==============================] - 63s 781ms/step - loss: 0.9727 - accuracy: 0.6668 - val_loss: 0.8746 - val_accuracy: 0.7227 - lr: 1.0000e-04\n",
      "Epoch 10/30\n",
      "81/81 [==============================] - ETA: 0s - loss: 0.9381 - accuracy: 0.6773\n",
      "Epoch 00010: val_loss improved from 0.87463 to 0.83285, saving model to pombEye_mobilenetv2.h5\n",
      "81/81 [==============================] - 63s 780ms/step - loss: 0.9381 - accuracy: 0.6773 - val_loss: 0.8328 - val_accuracy: 0.7559 - lr: 1.0000e-04\n",
      "Epoch 11/30\n",
      "81/81 [==============================] - ETA: 0s - loss: 0.9134 - accuracy: 0.6855\n",
      "Epoch 00011: val_loss did not improve from 0.83285\n",
      "81/81 [==============================] - 63s 779ms/step - loss: 0.9134 - accuracy: 0.6855 - val_loss: 0.8561 - val_accuracy: 0.7246 - lr: 1.0000e-04\n",
      "Epoch 12/30\n",
      "81/81 [==============================] - ETA: 0s - loss: 0.8913 - accuracy: 0.6965\n",
      "Epoch 00012: val_loss improved from 0.83285 to 0.82033, saving model to pombEye_mobilenetv2.h5\n",
      "81/81 [==============================] - 63s 783ms/step - loss: 0.8913 - accuracy: 0.6965 - val_loss: 0.8203 - val_accuracy: 0.7402 - lr: 1.0000e-04\n",
      "Epoch 13/30\n",
      "81/81 [==============================] - ETA: 0s - loss: 0.8651 - accuracy: 0.7053\n",
      "Epoch 00013: val_loss improved from 0.82033 to 0.81205, saving model to pombEye_mobilenetv2.h5\n",
      "81/81 [==============================] - 63s 782ms/step - loss: 0.8651 - accuracy: 0.7053 - val_loss: 0.8120 - val_accuracy: 0.7598 - lr: 1.0000e-04\n",
      "Epoch 14/30\n",
      "81/81 [==============================] - ETA: 0s - loss: 0.8603 - accuracy: 0.7063\n",
      "Epoch 00014: val_loss improved from 0.81205 to 0.80709, saving model to pombEye_mobilenetv2.h5\n",
      "81/81 [==============================] - 63s 783ms/step - loss: 0.8603 - accuracy: 0.7063 - val_loss: 0.8071 - val_accuracy: 0.7520 - lr: 1.0000e-04\n",
      "Epoch 15/30\n",
      "81/81 [==============================] - ETA: 0s - loss: 0.8418 - accuracy: 0.7092\n",
      "Epoch 00015: val_loss improved from 0.80709 to 0.79757, saving model to pombEye_mobilenetv2.h5\n",
      "81/81 [==============================] - 64s 784ms/step - loss: 0.8418 - accuracy: 0.7092 - val_loss: 0.7976 - val_accuracy: 0.7480 - lr: 1.0000e-04\n",
      "Epoch 16/30\n",
      "81/81 [==============================] - ETA: 0s - loss: 0.8277 - accuracy: 0.7160\n",
      "Epoch 00016: val_loss improved from 0.79757 to 0.79364, saving model to pombEye_mobilenetv2.h5\n",
      "81/81 [==============================] - 63s 781ms/step - loss: 0.8277 - accuracy: 0.7160 - val_loss: 0.7936 - val_accuracy: 0.7422 - lr: 1.0000e-04\n",
      "Epoch 17/30\n",
      "81/81 [==============================] - ETA: 0s - loss: 0.8203 - accuracy: 0.7202\n",
      "Epoch 00017: val_loss did not improve from 0.79364\n",
      "81/81 [==============================] - 63s 778ms/step - loss: 0.8203 - accuracy: 0.7202 - val_loss: 0.7979 - val_accuracy: 0.7480 - lr: 1.0000e-04\n",
      "Epoch 18/30\n",
      "81/81 [==============================] - ETA: 0s - loss: 0.7960 - accuracy: 0.7272\n",
      "Epoch 00018: val_loss improved from 0.79364 to 0.76951, saving model to pombEye_mobilenetv2.h5\n",
      "81/81 [==============================] - 63s 784ms/step - loss: 0.7960 - accuracy: 0.7272 - val_loss: 0.7695 - val_accuracy: 0.7598 - lr: 1.0000e-04\n",
      "Epoch 19/30\n",
      "81/81 [==============================] - ETA: 0s - loss: 0.7999 - accuracy: 0.7201\n",
      "Epoch 00019: val_loss did not improve from 0.76951\n",
      "81/81 [==============================] - 63s 780ms/step - loss: 0.7999 - accuracy: 0.7201 - val_loss: 0.7944 - val_accuracy: 0.7363 - lr: 1.0000e-04\n",
      "Epoch 20/30\n",
      "81/81 [==============================] - ETA: 0s - loss: 0.7858 - accuracy: 0.7248\n",
      "Epoch 00020: val_loss improved from 0.76951 to 0.72900, saving model to pombEye_mobilenetv2.h5\n",
      "81/81 [==============================] - 63s 779ms/step - loss: 0.7858 - accuracy: 0.7248 - val_loss: 0.7290 - val_accuracy: 0.7656 - lr: 1.0000e-04\n",
      "Epoch 21/30\n",
      "81/81 [==============================] - ETA: 0s - loss: 0.7773 - accuracy: 0.7295\n",
      "Epoch 00021: val_loss did not improve from 0.72900\n",
      "81/81 [==============================] - 63s 778ms/step - loss: 0.7773 - accuracy: 0.7295 - val_loss: 0.7376 - val_accuracy: 0.7656 - lr: 1.0000e-04\n",
      "Epoch 22/30\n",
      "81/81 [==============================] - ETA: 0s - loss: 0.7614 - accuracy: 0.7312\n",
      "Epoch 00022: val_loss did not improve from 0.72900\n",
      "81/81 [==============================] - 63s 776ms/step - loss: 0.7614 - accuracy: 0.7312 - val_loss: 0.7376 - val_accuracy: 0.7695 - lr: 1.0000e-04\n",
      "Epoch 23/30\n",
      "81/81 [==============================] - ETA: 0s - loss: 0.7648 - accuracy: 0.7354\n",
      "Epoch 00023: val_loss did not improve from 0.72900\n",
      "\n",
      "Epoch 00023: ReduceLROnPlateau reducing learning rate to 2.9999999242136255e-05.\n",
      "81/81 [==============================] - 63s 777ms/step - loss: 0.7648 - accuracy: 0.7354 - val_loss: 0.7415 - val_accuracy: 0.7656 - lr: 1.0000e-04\n",
      "Epoch 24/30\n",
      "81/81 [==============================] - ETA: 0s - loss: 0.7481 - accuracy: 0.7422\n",
      "Epoch 00024: val_loss improved from 0.72900 to 0.72051, saving model to pombEye_mobilenetv2.h5\n",
      "81/81 [==============================] - 63s 781ms/step - loss: 0.7481 - accuracy: 0.7422 - val_loss: 0.7205 - val_accuracy: 0.7715 - lr: 3.0000e-05\n",
      "Epoch 25/30\n",
      "81/81 [==============================] - ETA: 0s - loss: 0.7425 - accuracy: 0.7421\n",
      "Epoch 00025: val_loss improved from 0.72051 to 0.68241, saving model to pombEye_mobilenetv2.h5\n",
      "81/81 [==============================] - 63s 780ms/step - loss: 0.7425 - accuracy: 0.7421 - val_loss: 0.6824 - val_accuracy: 0.7891 - lr: 3.0000e-05\n",
      "Epoch 26/30\n",
      "81/81 [==============================] - ETA: 0s - loss: 0.7547 - accuracy: 0.7395\n",
      "Epoch 00026: val_loss did not improve from 0.68241\n",
      "81/81 [==============================] - 63s 776ms/step - loss: 0.7547 - accuracy: 0.7395 - val_loss: 0.7091 - val_accuracy: 0.7734 - lr: 3.0000e-05\n",
      "Epoch 27/30\n",
      "81/81 [==============================] - ETA: 0s - loss: 0.7347 - accuracy: 0.7458\n",
      "Epoch 00027: val_loss did not improve from 0.68241\n",
      "81/81 [==============================] - 63s 779ms/step - loss: 0.7347 - accuracy: 0.7458 - val_loss: 0.7335 - val_accuracy: 0.7734 - lr: 3.0000e-05\n",
      "Epoch 28/30\n",
      "81/81 [==============================] - ETA: 0s - loss: 0.7455 - accuracy: 0.7422\n",
      "Epoch 00028: val_loss did not improve from 0.68241\n",
      "\n",
      "Epoch 00028: ReduceLROnPlateau reducing learning rate to 8.999999772640877e-06.\n",
      "81/81 [==============================] - 63s 781ms/step - loss: 0.7455 - accuracy: 0.7422 - val_loss: 0.7220 - val_accuracy: 0.7656 - lr: 3.0000e-05\n",
      "Epoch 29/30\n",
      "81/81 [==============================] - ETA: 0s - loss: 0.7336 - accuracy: 0.7447\n",
      "Epoch 00029: val_loss did not improve from 0.68241\n",
      "81/81 [==============================] - 63s 782ms/step - loss: 0.7336 - accuracy: 0.7447 - val_loss: 0.7128 - val_accuracy: 0.7754 - lr: 9.0000e-06\n",
      "Epoch 30/30\n",
      "81/81 [==============================] - ETA: 0s - loss: 0.7469 - accuracy: 0.7436\n",
      "Epoch 00030: val_loss did not improve from 0.68241\n",
      "81/81 [==============================] - 63s 783ms/step - loss: 0.7469 - accuracy: 0.7436 - val_loss: 0.7054 - val_accuracy: 0.7676 - lr: 9.0000e-06\n"
     ]
    }
   ],
   "source": [
    "history = pombEye_mobilenetv2.fit(train_generator,steps_per_epoch = train_generator.n//train_generator.batch_size,\n",
    "                              epochs= 30,callbacks=[checkpoint,reduce_lr, early_stopping_cb, tensorboard_cb],\n",
    "                            validation_data = valid_generator,\n",
    "                            validation_steps= valid_generator.n//valid_generator.batch_size,\n",
    "                              shuffle=True)"
   ]
  },
  {
   "cell_type": "code",
   "execution_count": 33,
   "metadata": {},
   "outputs": [
    {
     "name": "stdout",
     "output_type": "stream",
     "text": [
      "Epoch 1/100\n",
      "81/81 [==============================] - ETA: 0s - loss: 0.9178 - accuracy: 0.6889\n",
      "Epoch 00001: val_loss improved from 0.68241 to 0.67970, saving model to pombEye_mobilenetv2.h5\n",
      "81/81 [==============================] - 64s 789ms/step - loss: 0.9178 - accuracy: 0.6889 - val_loss: 0.6797 - val_accuracy: 0.7695 - lr: 1.0000e-05\n",
      "Epoch 2/100\n",
      "81/81 [==============================] - ETA: 0s - loss: 0.7732 - accuracy: 0.7369\n",
      "Epoch 00002: val_loss did not improve from 0.67970\n",
      "81/81 [==============================] - 63s 779ms/step - loss: 0.7732 - accuracy: 0.7369 - val_loss: 0.6930 - val_accuracy: 0.7656 - lr: 1.0000e-05\n",
      "Epoch 3/100\n",
      "81/81 [==============================] - ETA: 0s - loss: 0.7349 - accuracy: 0.7470\n",
      "Epoch 00003: val_loss did not improve from 0.67970\n",
      "81/81 [==============================] - 63s 774ms/step - loss: 0.7349 - accuracy: 0.7470 - val_loss: 0.6971 - val_accuracy: 0.7656 - lr: 1.0000e-05\n",
      "Epoch 4/100\n",
      "81/81 [==============================] - ETA: 0s - loss: 0.6848 - accuracy: 0.7600\n",
      "Epoch 00004: val_loss did not improve from 0.67970\n",
      "\n",
      "Epoch 00004: ReduceLROnPlateau reducing learning rate to 2.9999999242136253e-06.\n",
      "81/81 [==============================] - 63s 779ms/step - loss: 0.6848 - accuracy: 0.7600 - val_loss: 0.7332 - val_accuracy: 0.7500 - lr: 1.0000e-05\n",
      "Epoch 5/100\n",
      "81/81 [==============================] - ETA: 0s - loss: 0.6813 - accuracy: 0.7659\n",
      "Epoch 00005: val_loss improved from 0.67970 to 0.66880, saving model to pombEye_mobilenetv2.h5\n",
      "81/81 [==============================] - 63s 780ms/step - loss: 0.6813 - accuracy: 0.7659 - val_loss: 0.6688 - val_accuracy: 0.7715 - lr: 3.0000e-06\n",
      "Epoch 6/100\n",
      "81/81 [==============================] - ETA: 0s - loss: 0.6627 - accuracy: 0.7679\n",
      "Epoch 00006: val_loss improved from 0.66880 to 0.66552, saving model to pombEye_mobilenetv2.h5\n",
      "81/81 [==============================] - 63s 779ms/step - loss: 0.6627 - accuracy: 0.7679 - val_loss: 0.6655 - val_accuracy: 0.7715 - lr: 3.0000e-06\n",
      "Epoch 7/100\n",
      "81/81 [==============================] - ETA: 0s - loss: 0.6584 - accuracy: 0.7730\n",
      "Epoch 00007: val_loss did not improve from 0.66552\n",
      "81/81 [==============================] - 63s 777ms/step - loss: 0.6584 - accuracy: 0.7730 - val_loss: 0.6798 - val_accuracy: 0.7754 - lr: 3.0000e-06\n",
      "Epoch 8/100\n",
      "81/81 [==============================] - ETA: 0s - loss: 0.6608 - accuracy: 0.7717\n",
      "Epoch 00008: val_loss did not improve from 0.66552\n",
      "81/81 [==============================] - 63s 776ms/step - loss: 0.6608 - accuracy: 0.7717 - val_loss: 0.6672 - val_accuracy: 0.7754 - lr: 3.0000e-06\n",
      "Epoch 9/100\n",
      "81/81 [==============================] - ETA: 0s - loss: 0.6511 - accuracy: 0.7775\n",
      "Epoch 00009: val_loss did not improve from 0.66552\n",
      "\n",
      "Epoch 00009: ReduceLROnPlateau reducing learning rate to 8.999999636216671e-07.\n",
      "81/81 [==============================] - 63s 775ms/step - loss: 0.6511 - accuracy: 0.7775 - val_loss: 0.6721 - val_accuracy: 0.7910 - lr: 3.0000e-06\n",
      "Epoch 10/100\n",
      "81/81 [==============================] - ETA: 0s - loss: 0.6474 - accuracy: 0.7741\n",
      "Epoch 00010: val_loss did not improve from 0.66552\n",
      "81/81 [==============================] - 63s 777ms/step - loss: 0.6474 - accuracy: 0.7741 - val_loss: 0.7016 - val_accuracy: 0.7852 - lr: 9.0000e-07\n",
      "Epoch 11/100\n",
      "81/81 [==============================] - ETA: 0s - loss: 0.6420 - accuracy: 0.7782\n",
      "Epoch 00011: val_loss improved from 0.66552 to 0.64972, saving model to pombEye_mobilenetv2.h5\n",
      "81/81 [==============================] - 63s 778ms/step - loss: 0.6420 - accuracy: 0.7782 - val_loss: 0.6497 - val_accuracy: 0.7891 - lr: 9.0000e-07\n",
      "Epoch 12/100\n",
      "81/81 [==============================] - ETA: 0s - loss: 0.6347 - accuracy: 0.7820\n",
      "Epoch 00012: val_loss did not improve from 0.64972\n",
      "81/81 [==============================] - 63s 777ms/step - loss: 0.6347 - accuracy: 0.7820 - val_loss: 0.6627 - val_accuracy: 0.7930 - lr: 9.0000e-07\n",
      "Epoch 13/100\n",
      "81/81 [==============================] - ETA: 0s - loss: 0.6486 - accuracy: 0.7765\n",
      "Epoch 00013: val_loss improved from 0.64972 to 0.63807, saving model to pombEye_mobilenetv2.h5\n",
      "81/81 [==============================] - 63s 784ms/step - loss: 0.6486 - accuracy: 0.7765 - val_loss: 0.6381 - val_accuracy: 0.7988 - lr: 9.0000e-07\n",
      "Epoch 14/100\n",
      "81/81 [==============================] - ETA: 0s - loss: 0.6369 - accuracy: 0.7794\n",
      "Epoch 00014: val_loss did not improve from 0.63807\n",
      "81/81 [==============================] - 63s 776ms/step - loss: 0.6369 - accuracy: 0.7794 - val_loss: 0.6533 - val_accuracy: 0.7930 - lr: 9.0000e-07\n",
      "Epoch 15/100\n",
      "81/81 [==============================] - ETA: 0s - loss: 0.6255 - accuracy: 0.7844\n",
      "Epoch 00015: val_loss did not improve from 0.63807\n",
      "81/81 [==============================] - 63s 776ms/step - loss: 0.6255 - accuracy: 0.7844 - val_loss: 0.6694 - val_accuracy: 0.7910 - lr: 9.0000e-07\n",
      "Epoch 16/100\n",
      "81/81 [==============================] - ETA: 0s - loss: 0.6207 - accuracy: 0.7877\n",
      "Epoch 00016: val_loss improved from 0.63807 to 0.62349, saving model to pombEye_mobilenetv2.h5\n",
      "81/81 [==============================] - 63s 778ms/step - loss: 0.6207 - accuracy: 0.7877 - val_loss: 0.6235 - val_accuracy: 0.7969 - lr: 9.0000e-07\n",
      "Epoch 17/100\n",
      "81/81 [==============================] - ETA: 0s - loss: 0.6276 - accuracy: 0.7827\n",
      "Epoch 00017: val_loss improved from 0.62349 to 0.59425, saving model to pombEye_mobilenetv2.h5\n",
      "81/81 [==============================] - 63s 777ms/step - loss: 0.6276 - accuracy: 0.7827 - val_loss: 0.5942 - val_accuracy: 0.8125 - lr: 9.0000e-07\n",
      "Epoch 18/100\n",
      "81/81 [==============================] - ETA: 0s - loss: 0.6291 - accuracy: 0.7850\n",
      "Epoch 00018: val_loss did not improve from 0.59425\n",
      "81/81 [==============================] - 63s 777ms/step - loss: 0.6291 - accuracy: 0.7850 - val_loss: 0.6828 - val_accuracy: 0.7832 - lr: 9.0000e-07\n",
      "Epoch 19/100\n",
      "81/81 [==============================] - ETA: 0s - loss: 0.6308 - accuracy: 0.7849\n",
      "Epoch 00019: val_loss did not improve from 0.59425\n",
      "81/81 [==============================] - 63s 775ms/step - loss: 0.6308 - accuracy: 0.7849 - val_loss: 0.6044 - val_accuracy: 0.8086 - lr: 9.0000e-07\n",
      "Epoch 20/100\n",
      "81/81 [==============================] - ETA: 0s - loss: 0.6259 - accuracy: 0.7803\n",
      "Epoch 00020: val_loss did not improve from 0.59425\n",
      "\n",
      "Epoch 00020: ReduceLROnPlateau reducing learning rate to 2.6999999249710525e-07.\n",
      "81/81 [==============================] - 63s 776ms/step - loss: 0.6259 - accuracy: 0.7803 - val_loss: 0.6477 - val_accuracy: 0.7949 - lr: 9.0000e-07\n",
      "Epoch 21/100\n",
      "81/81 [==============================] - ETA: 0s - loss: 0.6251 - accuracy: 0.7871\n",
      "Epoch 00021: val_loss did not improve from 0.59425\n",
      "81/81 [==============================] - 63s 780ms/step - loss: 0.6251 - accuracy: 0.7871 - val_loss: 0.6318 - val_accuracy: 0.8066 - lr: 2.7000e-07\n",
      "Epoch 22/100\n",
      "81/81 [==============================] - ETA: 0s - loss: 0.6244 - accuracy: 0.7831\n",
      "Epoch 00022: val_loss did not improve from 0.59425\n",
      "81/81 [==============================] - 64s 788ms/step - loss: 0.6244 - accuracy: 0.7831 - val_loss: 0.6115 - val_accuracy: 0.8086 - lr: 2.7000e-07\n",
      "Epoch 23/100\n",
      "81/81 [==============================] - ETA: 0s - loss: 0.6256 - accuracy: 0.7812\n",
      "Epoch 00023: val_loss did not improve from 0.59425\n",
      "\n",
      "Epoch 00023: ReduceLROnPlateau reducing learning rate to 8.099999604382901e-08.\n",
      "81/81 [==============================] - 63s 782ms/step - loss: 0.6256 - accuracy: 0.7812 - val_loss: 0.6331 - val_accuracy: 0.8066 - lr: 2.7000e-07\n",
      "Epoch 24/100\n",
      "81/81 [==============================] - ETA: 0s - loss: 0.6221 - accuracy: 0.7815\n",
      "Epoch 00024: val_loss did not improve from 0.59425\n",
      "81/81 [==============================] - 63s 782ms/step - loss: 0.6221 - accuracy: 0.7815 - val_loss: 0.6197 - val_accuracy: 0.8125 - lr: 8.1000e-08\n"
     ]
    },
    {
     "data": {
      "text/plain": [
       "<tensorflow.python.keras.callbacks.History at 0x7f12640d7a50>"
      ]
     },
     "execution_count": 33,
     "metadata": {},
     "output_type": "execute_result"
    }
   ],
   "source": [
    "conv_base.trainable = True\n",
    "\n",
    "set_trainable = False\n",
    "for layer in conv_base.layers:\n",
    "    if layer.name == 'block_16_expand':\n",
    "        set_trainable = True\n",
    "    if set_trainable:\n",
    "        layer.trainable = True\n",
    "    else:\n",
    "        layer.trainable = False\n",
    "\n",
    "pombEye_mobilenetv2.compile(optimizer= tf.keras.optimizers.RMSprop(lr=1e-5),\n",
    "  loss = \"categorical_crossentropy\",\n",
    "  metrics = ['accuracy']) \n",
    "\n",
    "pombEye_mobilenetv2.fit(train_generator,steps_per_epoch = train_generator.n//train_generator.batch_size,\n",
    "                              epochs= 100 ,callbacks=[checkpoint,reduce_lr, early_stopping_cb, tensorboard_cb],\n",
    "                            validation_data = valid_generator,\n",
    "                            validation_steps= valid_generator.n//valid_generator.batch_size,\n",
    "                              shuffle=True)"
   ]
  },
  {
   "cell_type": "code",
   "execution_count": 34,
   "metadata": {},
   "outputs": [
    {
     "name": "stdout",
     "output_type": "stream",
     "text": [
      "Epoch 1/100\n",
      "81/81 [==============================] - ETA: 0s - loss: 0.6941 - accuracy: 0.7604\n",
      "Epoch 00001: val_loss did not improve from 0.59425\n",
      "81/81 [==============================] - 92s 1s/step - loss: 0.6941 - accuracy: 0.7604 - val_loss: 0.6181 - val_accuracy: 0.8066 - lr: 1.0000e-05\n",
      "Epoch 2/100\n",
      "81/81 [==============================] - ETA: 0s - loss: 0.6421 - accuracy: 0.7785\n",
      "Epoch 00002: val_loss did not improve from 0.59425\n",
      "81/81 [==============================] - 97s 1s/step - loss: 0.6421 - accuracy: 0.7785 - val_loss: 0.6218 - val_accuracy: 0.8047 - lr: 1.0000e-05\n",
      "Epoch 3/100\n",
      "81/81 [==============================] - ETA: 0s - loss: 0.6181 - accuracy: 0.7832\n",
      "Epoch 00003: val_loss did not improve from 0.59425\n",
      "81/81 [==============================] - 75s 930ms/step - loss: 0.6181 - accuracy: 0.7832 - val_loss: 0.6178 - val_accuracy: 0.8027 - lr: 1.0000e-05\n",
      "Epoch 4/100\n",
      "81/81 [==============================] - ETA: 0s - loss: 0.5937 - accuracy: 0.7918\n",
      "Epoch 00004: val_loss did not improve from 0.59425\n",
      "81/81 [==============================] - 77s 953ms/step - loss: 0.5937 - accuracy: 0.7918 - val_loss: 0.6394 - val_accuracy: 0.7930 - lr: 1.0000e-05\n",
      "Epoch 5/100\n",
      "81/81 [==============================] - ETA: 0s - loss: 0.5706 - accuracy: 0.8036\n",
      "Epoch 00005: val_loss did not improve from 0.59425\n",
      "81/81 [==============================] - 67s 826ms/step - loss: 0.5706 - accuracy: 0.8036 - val_loss: 0.6352 - val_accuracy: 0.8008 - lr: 1.0000e-05\n",
      "Epoch 6/100\n",
      "81/81 [==============================] - ETA: 0s - loss: 0.5564 - accuracy: 0.8076\n",
      "Epoch 00006: val_loss did not improve from 0.59425\n",
      "81/81 [==============================] - 76s 934ms/step - loss: 0.5564 - accuracy: 0.8076 - val_loss: 0.6116 - val_accuracy: 0.8086 - lr: 1.0000e-05\n",
      "Epoch 7/100\n",
      "81/81 [==============================] - ETA: 0s - loss: 0.5399 - accuracy: 0.8105\n",
      "Epoch 00007: val_loss did not improve from 0.59425\n",
      "81/81 [==============================] - 66s 817ms/step - loss: 0.5399 - accuracy: 0.8105 - val_loss: 0.6024 - val_accuracy: 0.8105 - lr: 1.0000e-05\n",
      "Epoch 8/100\n",
      "81/81 [==============================] - ETA: 0s - loss: 0.5310 - accuracy: 0.8183\n",
      "Epoch 00008: val_loss improved from 0.59425 to 0.56233, saving model to pombEye_mobilenetv2.h5\n",
      "81/81 [==============================] - 63s 783ms/step - loss: 0.5310 - accuracy: 0.8183 - val_loss: 0.5623 - val_accuracy: 0.8203 - lr: 1.0000e-05\n",
      "Epoch 9/100\n",
      "81/81 [==============================] - ETA: 0s - loss: 0.5213 - accuracy: 0.8154\n",
      "Epoch 00009: val_loss did not improve from 0.56233\n",
      "81/81 [==============================] - 69s 846ms/step - loss: 0.5213 - accuracy: 0.8154 - val_loss: 0.5946 - val_accuracy: 0.8203 - lr: 1.0000e-05\n",
      "Epoch 10/100\n",
      "81/81 [==============================] - ETA: 0s - loss: 0.4983 - accuracy: 0.8269\n",
      "Epoch 00010: val_loss did not improve from 0.56233\n",
      "81/81 [==============================] - 89s 1s/step - loss: 0.4983 - accuracy: 0.8269 - val_loss: 0.5899 - val_accuracy: 0.8184 - lr: 1.0000e-05\n",
      "Epoch 11/100\n",
      "81/81 [==============================] - ETA: 0s - loss: 0.4972 - accuracy: 0.8265\n",
      "Epoch 00011: val_loss improved from 0.56233 to 0.55304, saving model to pombEye_mobilenetv2.h5\n",
      "81/81 [==============================] - 93s 1s/step - loss: 0.4972 - accuracy: 0.8265 - val_loss: 0.5530 - val_accuracy: 0.8242 - lr: 1.0000e-05\n",
      "Epoch 12/100\n",
      "81/81 [==============================] - ETA: 0s - loss: 0.4866 - accuracy: 0.8315\n",
      "Epoch 00012: val_loss did not improve from 0.55304\n",
      "81/81 [==============================] - 91s 1s/step - loss: 0.4866 - accuracy: 0.8315 - val_loss: 0.5645 - val_accuracy: 0.8184 - lr: 1.0000e-05\n",
      "Epoch 13/100\n",
      "81/81 [==============================] - ETA: 0s - loss: 0.4755 - accuracy: 0.8356\n",
      "Epoch 00013: val_loss improved from 0.55304 to 0.52886, saving model to pombEye_mobilenetv2.h5\n",
      "81/81 [==============================] - 79s 979ms/step - loss: 0.4755 - accuracy: 0.8356 - val_loss: 0.5289 - val_accuracy: 0.8418 - lr: 1.0000e-05\n",
      "Epoch 14/100\n",
      "81/81 [==============================] - ETA: 0s - loss: 0.4662 - accuracy: 0.8368\n",
      "Epoch 00014: val_loss improved from 0.52886 to 0.52267, saving model to pombEye_mobilenetv2.h5\n",
      "81/81 [==============================] - 84s 1s/step - loss: 0.4662 - accuracy: 0.8368 - val_loss: 0.5227 - val_accuracy: 0.8398 - lr: 1.0000e-05\n",
      "Epoch 15/100\n",
      "81/81 [==============================] - ETA: 0s - loss: 0.4595 - accuracy: 0.8371\n",
      "Epoch 00015: val_loss did not improve from 0.52267\n",
      "81/81 [==============================] - 99s 1s/step - loss: 0.4595 - accuracy: 0.8371 - val_loss: 0.5311 - val_accuracy: 0.8340 - lr: 1.0000e-05\n",
      "Epoch 16/100\n",
      "81/81 [==============================] - ETA: 0s - loss: 0.4557 - accuracy: 0.8412\n",
      "Epoch 00016: val_loss improved from 0.52267 to 0.48890, saving model to pombEye_mobilenetv2.h5\n",
      "81/81 [==============================] - 110s 1s/step - loss: 0.4557 - accuracy: 0.8412 - val_loss: 0.4889 - val_accuracy: 0.8457 - lr: 1.0000e-05\n",
      "Epoch 17/100\n",
      "81/81 [==============================] - ETA: 0s - loss: 0.4384 - accuracy: 0.8470\n",
      "Epoch 00017: val_loss did not improve from 0.48890\n",
      "81/81 [==============================] - 99s 1s/step - loss: 0.4384 - accuracy: 0.8470 - val_loss: 0.5157 - val_accuracy: 0.8398 - lr: 1.0000e-05\n",
      "Epoch 18/100\n",
      "81/81 [==============================] - ETA: 0s - loss: 0.4410 - accuracy: 0.8460\n",
      "Epoch 00018: val_loss did not improve from 0.48890\n",
      "81/81 [==============================] - 82s 1s/step - loss: 0.4410 - accuracy: 0.8460 - val_loss: 0.5341 - val_accuracy: 0.8320 - lr: 1.0000e-05\n",
      "Epoch 19/100\n",
      "81/81 [==============================] - ETA: 0s - loss: 0.4322 - accuracy: 0.8505\n",
      "Epoch 00019: val_loss did not improve from 0.48890\n",
      "\n",
      "Epoch 00019: ReduceLROnPlateau reducing learning rate to 2.9999999242136253e-06.\n",
      "81/81 [==============================] - 103s 1s/step - loss: 0.4322 - accuracy: 0.8505 - val_loss: 0.4937 - val_accuracy: 0.8398 - lr: 1.0000e-05\n",
      "Epoch 20/100\n",
      "81/81 [==============================] - ETA: 0s - loss: 0.4315 - accuracy: 0.8469\n",
      "Epoch 00020: val_loss did not improve from 0.48890\n",
      "81/81 [==============================] - 111s 1s/step - loss: 0.4315 - accuracy: 0.8469 - val_loss: 0.5158 - val_accuracy: 0.8340 - lr: 3.0000e-06\n",
      "Epoch 21/100\n",
      "81/81 [==============================] - ETA: 0s - loss: 0.4373 - accuracy: 0.8477\n",
      "Epoch 00021: val_loss did not improve from 0.48890\n",
      "81/81 [==============================] - 70s 870ms/step - loss: 0.4373 - accuracy: 0.8477 - val_loss: 0.5081 - val_accuracy: 0.8281 - lr: 3.0000e-06\n",
      "Epoch 22/100\n",
      "81/81 [==============================] - ETA: 0s - loss: 0.4217 - accuracy: 0.8524\n",
      "Epoch 00022: val_loss did not improve from 0.48890\n",
      "\n",
      "Epoch 00022: ReduceLROnPlateau reducing learning rate to 8.999999636216671e-07.\n",
      "81/81 [==============================] - 86s 1s/step - loss: 0.4217 - accuracy: 0.8524 - val_loss: 0.5076 - val_accuracy: 0.8398 - lr: 3.0000e-06\n",
      "Epoch 23/100\n",
      "81/81 [==============================] - ETA: 0s - loss: 0.4105 - accuracy: 0.8577\n",
      "Epoch 00023: val_loss improved from 0.48890 to 0.47327, saving model to pombEye_mobilenetv2.h5\n",
      "81/81 [==============================] - 84s 1s/step - loss: 0.4105 - accuracy: 0.8577 - val_loss: 0.4733 - val_accuracy: 0.8457 - lr: 9.0000e-07\n",
      "Epoch 24/100\n",
      "81/81 [==============================] - ETA: 0s - loss: 0.4294 - accuracy: 0.8489\n",
      "Epoch 00024: val_loss did not improve from 0.47327\n",
      "81/81 [==============================] - 84s 1s/step - loss: 0.4294 - accuracy: 0.8489 - val_loss: 0.5124 - val_accuracy: 0.8262 - lr: 9.0000e-07\n",
      "Epoch 25/100\n",
      "81/81 [==============================] - ETA: 0s - loss: 0.4218 - accuracy: 0.8504\n",
      "Epoch 00025: val_loss did not improve from 0.47327\n",
      "81/81 [==============================] - 105s 1s/step - loss: 0.4218 - accuracy: 0.8504 - val_loss: 0.5064 - val_accuracy: 0.8301 - lr: 9.0000e-07\n",
      "Epoch 26/100\n",
      "81/81 [==============================] - ETA: 0s - loss: 0.4191 - accuracy: 0.8582\n",
      "Epoch 00026: val_loss improved from 0.47327 to 0.46900, saving model to pombEye_mobilenetv2.h5\n",
      "81/81 [==============================] - 104s 1s/step - loss: 0.4191 - accuracy: 0.8582 - val_loss: 0.4690 - val_accuracy: 0.8418 - lr: 9.0000e-07\n",
      "Epoch 27/100\n",
      "81/81 [==============================] - ETA: 0s - loss: 0.4166 - accuracy: 0.8570\n",
      "Epoch 00027: val_loss did not improve from 0.46900\n",
      "81/81 [==============================] - 90s 1s/step - loss: 0.4166 - accuracy: 0.8570 - val_loss: 0.4854 - val_accuracy: 0.8418 - lr: 9.0000e-07\n",
      "Epoch 28/100\n",
      "81/81 [==============================] - ETA: 0s - loss: 0.4091 - accuracy: 0.8576\n",
      "Epoch 00028: val_loss did not improve from 0.46900\n",
      "81/81 [==============================] - 70s 865ms/step - loss: 0.4091 - accuracy: 0.8576 - val_loss: 0.4743 - val_accuracy: 0.8398 - lr: 9.0000e-07\n",
      "Epoch 29/100\n",
      "81/81 [==============================] - ETA: 0s - loss: 0.4135 - accuracy: 0.8574\n",
      "Epoch 00029: val_loss did not improve from 0.46900\n",
      "\n",
      "Epoch 00029: ReduceLROnPlateau reducing learning rate to 2.6999999249710525e-07.\n",
      "81/81 [==============================] - 73s 895ms/step - loss: 0.4135 - accuracy: 0.8574 - val_loss: 0.5016 - val_accuracy: 0.8340 - lr: 9.0000e-07\n",
      "Epoch 30/100\n",
      "81/81 [==============================] - ETA: 0s - loss: 0.4116 - accuracy: 0.8552\n",
      "Epoch 00030: val_loss did not improve from 0.46900\n",
      "81/81 [==============================] - 69s 855ms/step - loss: 0.4116 - accuracy: 0.8552 - val_loss: 0.5180 - val_accuracy: 0.8281 - lr: 2.7000e-07\n",
      "Epoch 31/100\n",
      "81/81 [==============================] - ETA: 0s - loss: 0.4167 - accuracy: 0.8562\n",
      "Epoch 00031: val_loss did not improve from 0.46900\n",
      "81/81 [==============================] - 90s 1s/step - loss: 0.4167 - accuracy: 0.8562 - val_loss: 0.4932 - val_accuracy: 0.8340 - lr: 2.7000e-07\n",
      "Epoch 32/100\n",
      "81/81 [==============================] - ETA: 0s - loss: 0.4226 - accuracy: 0.8533\n",
      "Epoch 00032: val_loss did not improve from 0.46900\n",
      "\n",
      "Epoch 00032: ReduceLROnPlateau reducing learning rate to 8.099999604382901e-08.\n",
      "81/81 [==============================] - 94s 1s/step - loss: 0.4226 - accuracy: 0.8533 - val_loss: 0.5000 - val_accuracy: 0.8398 - lr: 2.7000e-07\n",
      "Epoch 33/100\n",
      "81/81 [==============================] - ETA: 0s - loss: 0.4258 - accuracy: 0.8501\n",
      "Epoch 00033: val_loss did not improve from 0.46900\n",
      "81/81 [==============================] - 102s 1s/step - loss: 0.4258 - accuracy: 0.8501 - val_loss: 0.4988 - val_accuracy: 0.8398 - lr: 8.1000e-08\n"
     ]
    },
    {
     "data": {
      "text/plain": [
       "<tensorflow.python.keras.callbacks.History at 0x7f13d879f650>"
      ]
     },
     "execution_count": 34,
     "metadata": {},
     "output_type": "execute_result"
    }
   ],
   "source": [
    "conv_base.trainable = True\n",
    "\n",
    "set_trainable = False\n",
    "for layer in conv_base.layers:\n",
    "    if layer.name == 'block_15_expand':\n",
    "        set_trainable = True\n",
    "    if set_trainable:\n",
    "        layer.trainable = True\n",
    "    else:\n",
    "        layer.trainable = False\n",
    "\n",
    "pombEye_mobilenetv2.compile(optimizer= tf.keras.optimizers.RMSprop(lr=1e-5),\n",
    "  loss = \"categorical_crossentropy\",\n",
    "  metrics = ['accuracy']) \n",
    "\n",
    "pombEye_mobilenetv2.fit(train_generator,steps_per_epoch = train_generator.n//train_generator.batch_size,\n",
    "                              epochs= 100 ,callbacks=[checkpoint,reduce_lr, early_stopping_cb, tensorboard_cb],\n",
    "                            validation_data = valid_generator,\n",
    "                            validation_steps= valid_generator.n//valid_generator.batch_size,\n",
    "                              shuffle=True)"
   ]
  },
  {
   "cell_type": "code",
   "execution_count": 35,
   "metadata": {},
   "outputs": [
    {
     "name": "stdout",
     "output_type": "stream",
     "text": [
      "Epoch 1/100\n",
      "81/81 [==============================] - ETA: 0s - loss: 0.5081 - accuracy: 0.8190\n",
      "Epoch 00001: val_loss did not improve from 0.46900\n",
      "81/81 [==============================] - 141s 2s/step - loss: 0.5081 - accuracy: 0.8190 - val_loss: 0.5050 - val_accuracy: 0.8379 - lr: 1.0000e-06\n",
      "Epoch 2/100\n",
      "81/81 [==============================] - ETA: 0s - loss: 0.5078 - accuracy: 0.8206\n",
      "Epoch 00002: val_loss did not improve from 0.46900\n",
      "81/81 [==============================] - 112s 1s/step - loss: 0.5078 - accuracy: 0.8206 - val_loss: 0.5078 - val_accuracy: 0.8340 - lr: 1.0000e-06\n",
      "Epoch 3/100\n",
      "81/81 [==============================] - ETA: 0s - loss: 0.4925 - accuracy: 0.8274\n",
      "Epoch 00003: val_loss did not improve from 0.46900\n",
      "81/81 [==============================] - 117s 1s/step - loss: 0.4925 - accuracy: 0.8274 - val_loss: 0.4908 - val_accuracy: 0.8418 - lr: 1.0000e-06\n",
      "Epoch 4/100\n",
      "81/81 [==============================] - ETA: 0s - loss: 0.4968 - accuracy: 0.8265\n",
      "Epoch 00004: val_loss did not improve from 0.46900\n",
      "81/81 [==============================] - 118s 1s/step - loss: 0.4968 - accuracy: 0.8265 - val_loss: 0.5116 - val_accuracy: 0.8301 - lr: 1.0000e-06\n",
      "Epoch 5/100\n",
      "81/81 [==============================] - ETA: 0s - loss: 0.5023 - accuracy: 0.8261\n",
      "Epoch 00005: val_loss improved from 0.46900 to 0.46721, saving model to pombEye_mobilenetv2.h5\n",
      "81/81 [==============================] - 118s 1s/step - loss: 0.5023 - accuracy: 0.8261 - val_loss: 0.4672 - val_accuracy: 0.8340 - lr: 1.0000e-06\n",
      "Epoch 6/100\n",
      "81/81 [==============================] - ETA: 0s - loss: 0.4900 - accuracy: 0.8292\n",
      "Epoch 00006: val_loss did not improve from 0.46721\n",
      "81/81 [==============================] - 108s 1s/step - loss: 0.4900 - accuracy: 0.8292 - val_loss: 0.5461 - val_accuracy: 0.8262 - lr: 1.0000e-06\n",
      "Epoch 7/100\n",
      "81/81 [==============================] - ETA: 0s - loss: 0.4897 - accuracy: 0.8264\n",
      "Epoch 00007: val_loss did not improve from 0.46721\n",
      "81/81 [==============================] - 127s 2s/step - loss: 0.4897 - accuracy: 0.8264 - val_loss: 0.5364 - val_accuracy: 0.8262 - lr: 1.0000e-06\n",
      "Epoch 8/100\n",
      "81/81 [==============================] - ETA: 0s - loss: 0.4861 - accuracy: 0.8318\n",
      "Epoch 00008: val_loss did not improve from 0.46721\n",
      "\n",
      "Epoch 00008: ReduceLROnPlateau reducing learning rate to 2.999999992425728e-07.\n",
      "81/81 [==============================] - 128s 2s/step - loss: 0.4861 - accuracy: 0.8318 - val_loss: 0.5053 - val_accuracy: 0.8281 - lr: 1.0000e-06\n",
      "Epoch 9/100\n",
      "81/81 [==============================] - ETA: 0s - loss: 0.4867 - accuracy: 0.8284\n",
      "Epoch 00009: val_loss did not improve from 0.46721\n",
      "81/81 [==============================] - 130s 2s/step - loss: 0.4867 - accuracy: 0.8284 - val_loss: 0.5159 - val_accuracy: 0.8379 - lr: 3.0000e-07\n",
      "Epoch 10/100\n",
      "81/81 [==============================] - ETA: 0s - loss: 0.4793 - accuracy: 0.8324\n",
      "Epoch 00010: val_loss did not improve from 0.46721\n",
      "81/81 [==============================] - 118s 1s/step - loss: 0.4793 - accuracy: 0.8324 - val_loss: 0.5268 - val_accuracy: 0.8398 - lr: 3.0000e-07\n",
      "Epoch 11/100\n",
      "81/81 [==============================] - ETA: 0s - loss: 0.4826 - accuracy: 0.8323\n",
      "Epoch 00011: val_loss did not improve from 0.46721\n",
      "\n",
      "Epoch 00011: ReduceLROnPlateau reducing learning rate to 9.000000318337698e-08.\n",
      "81/81 [==============================] - 107s 1s/step - loss: 0.4826 - accuracy: 0.8323 - val_loss: 0.5411 - val_accuracy: 0.8203 - lr: 3.0000e-07\n",
      "Epoch 12/100\n",
      "81/81 [==============================] - ETA: 0s - loss: 0.4721 - accuracy: 0.8380\n",
      "Epoch 00012: val_loss did not improve from 0.46721\n",
      "81/81 [==============================] - 90s 1s/step - loss: 0.4721 - accuracy: 0.8380 - val_loss: 0.4938 - val_accuracy: 0.8359 - lr: 9.0000e-08\n"
     ]
    },
    {
     "data": {
      "text/plain": [
       "<tensorflow.python.keras.callbacks.History at 0x7f12640d7c10>"
      ]
     },
     "execution_count": 35,
     "metadata": {},
     "output_type": "execute_result"
    }
   ],
   "source": [
    "conv_base.trainable = True\n",
    "\n",
    "set_trainable = False\n",
    "for layer in conv_base.layers:\n",
    "    if layer.name == 'block_14_expand':\n",
    "        set_trainable = True\n",
    "    if set_trainable:\n",
    "        layer.trainable = True\n",
    "    else:\n",
    "        layer.trainable = False\n",
    "\n",
    "pombEye_mobilenetv2.compile(optimizer= tf.keras.optimizers.RMSprop(lr=1e-6),\n",
    "  loss = \"categorical_crossentropy\",\n",
    "  metrics = ['accuracy']) \n",
    "\n",
    "pombEye_mobilenetv2.fit(train_generator,steps_per_epoch = train_generator.n//train_generator.batch_size,\n",
    "                              epochs= 100 ,callbacks=[checkpoint,reduce_lr, early_stopping_cb, tensorboard_cb],\n",
    "                            validation_data = valid_generator,\n",
    "                            validation_steps= valid_generator.n//valid_generator.batch_size,\n",
    "                              shuffle=True)"
   ]
  },
  {
   "cell_type": "markdown",
   "metadata": {},
   "source": [
    "# Test dataset"
   ]
  },
  {
   "cell_type": "code",
   "execution_count": 16,
   "metadata": {},
   "outputs": [
    {
     "data": {
      "text/plain": [
       "['pombEye_v3_large.ipynb',\n",
       " 'pombEye_mobilenetv3.h5',\n",
       " 'pombEye_efficientnetB1.h5',\n",
       " 'logs',\n",
       " 'images',\n",
       " 'pombEye_efficientnet.h5',\n",
       " 'pombEye_xception.h5',\n",
       " 'pombEye_v3.ipynb',\n",
       " 'pombEye_mobilenetv2.h5',\n",
       " '.ipynb_checkpoints']"
      ]
     },
     "execution_count": 16,
     "metadata": {},
     "output_type": "execute_result"
    }
   ],
   "source": [
    "os.listdir()"
   ]
  },
  {
   "cell_type": "code",
   "execution_count": 19,
   "metadata": {},
   "outputs": [],
   "source": [
    "pombEye_mobilenetv2 = tf.keras.models.load_model('pombEye_mobilenetv2.h5')"
   ]
  },
  {
   "cell_type": "code",
   "execution_count": 23,
   "metadata": {},
   "outputs": [
    {
     "name": "stdout",
     "output_type": "stream",
     "text": [
      "Found 597 validated image filenames belonging to 9 classes.\n",
      "                       precision    recall  f1-score   support\n",
      "\n",
      "              cytosol       0.68      0.61      0.64        46\n",
      "  cytosol_and_nucleus       0.91      0.89      0.90       266\n",
      "endoplasmic_reticulum       0.93      0.77      0.84        74\n",
      "                golgi       0.50      0.75      0.60        28\n",
      "         microtubules       0.25      0.50      0.33         2\n",
      "        mitochondrion       0.80      0.69      0.74        29\n",
      "              nucleus       0.84      0.89      0.86       120\n",
      "            periphery       0.55      1.00      0.71        11\n",
      "              vacuole       0.82      0.67      0.74        21\n",
      "\n",
      "             accuracy                           0.83       597\n",
      "            macro avg       0.70      0.75      0.71       597\n",
      "         weighted avg       0.84      0.83      0.83       597\n",
      "\n"
     ]
    }
   ],
   "source": [
    "from sklearn import metrics\n",
    "\n",
    "valid_datagen = tf.keras.preprocessing.image.ImageDataGenerator(rescale=1./255) \n",
    "\n",
    "test_generator=valid_datagen.flow_from_dataframe(\n",
    "dataframe=test_df,\n",
    "directory=\"images\",\n",
    "x_col=\"filename\",\n",
    "y_col='label',\n",
    "batch_size=8,\n",
    "seed=42,\n",
    "shuffle=False,\n",
    "class_mode='categorical',\n",
    "target_size=(224,224))\n",
    "\n",
    "test_steps_per_epoch = np.math.ceil(test_generator.samples / test_generator.batch_size)\n",
    "\n",
    "predictions = pombEye_mobilenetv2.predict(test_generator, steps=test_steps_per_epoch)\n",
    "# Get most likely class\n",
    "predicted_classes = np.argmax(predictions, axis=1)\n",
    "\n",
    "true_classes = test_generator.classes\n",
    "class_labels = list(test_generator.class_indices.keys()) \n",
    "\n",
    "print(metrics.classification_report(true_classes, predicted_classes, target_names=class_labels))"
   ]
  },
  {
   "cell_type": "code",
   "execution_count": 24,
   "metadata": {},
   "outputs": [
    {
     "data": {
      "text/plain": [
       "array([[ 28,  17,   0,   1,   0,   0,   0,   0,   0],\n",
       "       [ 12, 236,   0,   2,   0,   0,  12,   3,   1],\n",
       "       [  1,   2,  57,   4,   1,   0,   3,   5,   1],\n",
       "       [  0,   0,   1,  21,   0,   2,   4,   0,   0],\n",
       "       [  0,   0,   0,   0,   1,   0,   1,   0,   0],\n",
       "       [  0,   1,   2,   3,   2,  20,   0,   0,   1],\n",
       "       [  0,   3,   0,   7,   0,   2, 107,   1,   0],\n",
       "       [  0,   0,   0,   0,   0,   0,   0,  11,   0],\n",
       "       [  0,   0,   1,   4,   0,   1,   1,   0,  14]])"
      ]
     },
     "execution_count": 24,
     "metadata": {},
     "output_type": "execute_result"
    }
   ],
   "source": [
    "metrics.confusion_matrix(true_classes, predicted_classes)"
   ]
  },
  {
   "cell_type": "code",
   "execution_count": 26,
   "metadata": {},
   "outputs": [
    {
     "data": {
      "text/plain": [
       "dict_keys(['cytosol', 'cytosol_and_nucleus', 'endoplasmic_reticulum', 'golgi', 'microtubules', 'mitochondrion', 'nucleus', 'periphery', 'vacuole'])"
      ]
     },
     "execution_count": 26,
     "metadata": {},
     "output_type": "execute_result"
    }
   ],
   "source": [
    "test_generator.class_indices.keys()"
   ]
  },
  {
   "cell_type": "code",
   "execution_count": null,
   "metadata": {},
   "outputs": [],
   "source": []
  }
 ],
 "metadata": {
  "kernelspec": {
   "display_name": "Python 3",
   "language": "python",
   "name": "python3"
  },
  "language_info": {
   "codemirror_mode": {
    "name": "ipython",
    "version": 3
   },
   "file_extension": ".py",
   "mimetype": "text/x-python",
   "name": "python",
   "nbconvert_exporter": "python",
   "pygments_lexer": "ipython3",
   "version": "3.6.9"
  }
 },
 "nbformat": 4,
 "nbformat_minor": 4
}
