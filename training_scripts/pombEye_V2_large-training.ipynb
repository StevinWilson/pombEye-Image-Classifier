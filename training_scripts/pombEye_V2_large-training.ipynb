{
 "cells": [
  {
   "cell_type": "code",
   "execution_count": 4,
   "metadata": {},
   "outputs": [
    {
     "name": "stdout",
     "output_type": "stream",
     "text": [
      "[PhysicalDevice(name='/physical_device:GPU:0', device_type='GPU')]\n",
      "Tensorflow version 2.4.0\n",
      "tf.keras version 2.4.0\n"
     ]
    }
   ],
   "source": [
    "import numpy as np\n",
    "import pandas as pd\n",
    "\n",
    "import tensorflow as tf\n",
    "from tensorflow import keras\n",
    "gpu_devices = tf.config.experimental.list_physical_devices('GPU')\n",
    "print(gpu_devices)\n",
    "for device in gpu_devices:\n",
    "    tf.config.experimental.set_memory_growth(device, True)\n",
    "#from tensorflow.keras.mixed_precision import experimental as mixed_precision\n",
    "#policy = mixed_precision.Policy('mixed_float16')\n",
    "#mixed_precision.set_policy(policy)\n",
    "\n",
    "\n",
    "import matplotlib.pyplot as plt\n",
    "import os\n",
    "import re\n",
    "from glob import glob\n",
    "from sklearn.model_selection import train_test_split\n",
    "from sklearn.utils import resample\n",
    "import datetime\n",
    "np.random.seed(42)\n",
    "tf.random.set_seed(42)\n",
    "\n",
    "print(\"Tensorflow version \" + tf.__version__)\n",
    "print(\"tf.keras version \" + tf.keras.__version__)"
   ]
  },
  {
   "cell_type": "code",
   "execution_count": 3,
   "metadata": {},
   "outputs": [
    {
     "name": "stdout",
     "output_type": "stream",
     "text": [
      "Collecting pandas\n",
      "  Downloading pandas-1.1.5-cp36-cp36m-manylinux1_x86_64.whl (9.5 MB)\n",
      "\u001b[K     |████████████████████████████████| 9.5 MB 12.3 MB/s eta 0:00:01\n",
      "\u001b[?25hRequirement already satisfied: numpy>=1.15.4 in /usr/local/lib/python3.6/dist-packages (from pandas) (1.19.4)\n",
      "Collecting pytz>=2017.2\n",
      "  Downloading pytz-2020.5-py2.py3-none-any.whl (510 kB)\n",
      "\u001b[K     |████████████████████████████████| 510 kB 10.1 MB/s eta 0:00:01\n",
      "\u001b[?25hRequirement already satisfied: python-dateutil>=2.7.3 in /usr/local/lib/python3.6/dist-packages (from pandas) (2.8.1)\n",
      "Requirement already satisfied: six>=1.5 in /usr/local/lib/python3.6/dist-packages (from python-dateutil>=2.7.3->pandas) (1.15.0)\n",
      "Installing collected packages: pytz, pandas\n",
      "Successfully installed pandas-1.1.5 pytz-2020.5\n",
      "\u001b[33mWARNING: You are using pip version 20.2.4; however, version 20.3.3 is available.\n",
      "You should consider upgrading via the '/usr/bin/python3 -m pip install --upgrade pip' command.\u001b[0m\n",
      "Collecting scikit-learn\n",
      "  Downloading scikit_learn-0.24.0-cp36-cp36m-manylinux2010_x86_64.whl (22.2 MB)\n",
      "\u001b[K     |████████████████████████████████| 22.2 MB 1.2 MB/s eta 0:00:01    |████████████▍                   | 8.6 MB 4.8 MB/s eta 0:00:03\n",
      "\u001b[?25hCollecting scipy>=0.19.1\n",
      "  Downloading scipy-1.5.4-cp36-cp36m-manylinux1_x86_64.whl (25.9 MB)\n",
      "\u001b[K     |████████████████████████████████| 25.9 MB 2.8 MB/s eta 0:00:01\n",
      "\u001b[?25hCollecting threadpoolctl>=2.0.0\n",
      "  Downloading threadpoolctl-2.1.0-py3-none-any.whl (12 kB)\n",
      "Requirement already satisfied: numpy>=1.13.3 in /usr/local/lib/python3.6/dist-packages (from scikit-learn) (1.19.4)\n",
      "Collecting joblib>=0.11\n",
      "  Downloading joblib-1.0.0-py3-none-any.whl (302 kB)\n",
      "\u001b[K     |████████████████████████████████| 302 kB 6.1 MB/s eta 0:00:01\n",
      "\u001b[?25hInstalling collected packages: scipy, threadpoolctl, joblib, scikit-learn\n",
      "Successfully installed joblib-1.0.0 scikit-learn-0.24.0 scipy-1.5.4 threadpoolctl-2.1.0\n",
      "\u001b[33mWARNING: You are using pip version 20.2.4; however, version 20.3.3 is available.\n",
      "You should consider upgrading via the '/usr/bin/python3 -m pip install --upgrade pip' command.\u001b[0m\n"
     ]
    }
   ],
   "source": [
    "!pip install pandas\n",
    "!pip install scikit-learn"
   ]
  },
  {
   "cell_type": "code",
   "execution_count": 2,
   "metadata": {},
   "outputs": [
    {
     "data": {
      "text/plain": [
       "'/tf/pombeye'"
      ]
     },
     "execution_count": 2,
     "metadata": {},
     "output_type": "execute_result"
    }
   ],
   "source": [
    "os.getcwd()"
   ]
  },
  {
   "cell_type": "code",
   "execution_count": 3,
   "metadata": {},
   "outputs": [
    {
     "data": {
      "text/plain": [
       "['pombEye_v3_large.ipynb',\n",
       " 'pombEye_mobilenetv3.h5',\n",
       " 'pombEye_efficientnetB1.h5',\n",
       " 'logs',\n",
       " 'images',\n",
       " 'pombEye_efficientnet.h5',\n",
       " 'pombEye_v3.ipynb',\n",
       " 'pombEye_mobilenetv2.h5',\n",
       " '.ipynb_checkpoints']"
      ]
     },
     "execution_count": 3,
     "metadata": {},
     "output_type": "execute_result"
    }
   ],
   "source": [
    "os.listdir()"
   ]
  },
  {
   "cell_type": "code",
   "execution_count": 4,
   "metadata": {},
   "outputs": [],
   "source": [
    "IMG_PATH = \"images\""
   ]
  },
  {
   "cell_type": "code",
   "execution_count": 5,
   "metadata": {},
   "outputs": [],
   "source": [
    "result = [[y.split(\"/\")[-2],os.path.join(y.split(\"/\")[-2],y.split(\"/\")[-1])] for x in os.walk(IMG_PATH) for y in glob(os.path.join(x[0], '*.jpg'))]"
   ]
  },
  {
   "cell_type": "code",
   "execution_count": 6,
   "metadata": {},
   "outputs": [
    {
     "data": {
      "text/plain": [
       "['vacuole', 'vacuole/vacuole.205.jpg']"
      ]
     },
     "execution_count": 6,
     "metadata": {},
     "output_type": "execute_result"
    }
   ],
   "source": [
    "result[0]"
   ]
  },
  {
   "cell_type": "code",
   "execution_count": 7,
   "metadata": {},
   "outputs": [],
   "source": [
    "image_df = pd.DataFrame(result, columns = ['label', 'filename'])"
   ]
  },
  {
   "cell_type": "code",
   "execution_count": 8,
   "metadata": {},
   "outputs": [
    {
     "data": {
      "text/plain": [
       "array(['vacuole', 'periphery', 'cytosol', 'mitochondrion',\n",
       "       'endoplasmic_reticulum', 'golgi', 'nucleus', 'microtubules',\n",
       "       'cytosol_and_nucleus'], dtype=object)"
      ]
     },
     "execution_count": 8,
     "metadata": {},
     "output_type": "execute_result"
    }
   ],
   "source": [
    "image_df['label'].unique()"
   ]
  },
  {
   "cell_type": "code",
   "execution_count": 9,
   "metadata": {},
   "outputs": [
    {
     "data": {
      "text/plain": [
       "<AxesSubplot:>"
      ]
     },
     "execution_count": 9,
     "metadata": {},
     "output_type": "execute_result"
    },
    {
     "data": {
      "image/png": "[encoded data removed]",
      "text/plain": [
       "<Figure size 432x288 with 1 Axes>"
      ]
     },
     "metadata": {
      "needs_background": "light"
     },
     "output_type": "display_data"
    }
   ],
   "source": [
    "image_df['label'].value_counts().sort_values().plot(kind = 'barh')"
   ]
  },
  {
   "cell_type": "code",
   "execution_count": 10,
   "metadata": {},
   "outputs": [
    {
     "data": {
      "text/plain": [
       "microtubules               64\n",
       "periphery                 263\n",
       "vacuole                   347\n",
       "golgi                     494\n",
       "mitochondrion             591\n",
       "cytosol                   743\n",
       "endoplasmic_reticulum    1660\n",
       "nucleus                  2984\n",
       "cytosol_and_nucleus      5416\n",
       "Name: label, dtype: int64"
      ]
     },
     "execution_count": 10,
     "metadata": {},
     "output_type": "execute_result"
    }
   ],
   "source": [
    "image_df['label'].value_counts().sort_values()"
   ]
  },
  {
   "cell_type": "code",
   "execution_count": 11,
   "metadata": {},
   "outputs": [],
   "source": [
    "# split df into train and test\n",
    "train_df, validation_df = train_test_split(image_df, test_size=0.05)\n",
    "train_df, test_df = train_test_split(train_df, test_size=0.05)"
   ]
  },
  {
   "cell_type": "code",
   "execution_count": 12,
   "metadata": {},
   "outputs": [],
   "source": [
    "train_df = train_df.reset_index(drop = True)\n",
    "test_df = test_df.reset_index(drop = True)\n",
    "validation_df = validation_df.reset_index(drop = True)"
   ]
  },
  {
   "cell_type": "code",
   "execution_count": 13,
   "metadata": {},
   "outputs": [
    {
     "data": {
      "text/html": [
       "<div>\n",
       "<style scoped>\n",
       "    .dataframe tbody tr th:only-of-type {\n",
       "        vertical-align: middle;\n",
       "    }\n",
       "\n",
       "    .dataframe tbody tr th {\n",
       "        vertical-align: top;\n",
       "    }\n",
       "\n",
       "    .dataframe thead th {\n",
       "        text-align: right;\n",
       "    }\n",
       "</style>\n",
       "<table border=\"1\" class=\"dataframe\">\n",
       "  <thead>\n",
       "    <tr style=\"text-align: right;\">\n",
       "      <th></th>\n",
       "      <th>label</th>\n",
       "      <th>filename</th>\n",
       "    </tr>\n",
       "  </thead>\n",
       "  <tbody>\n",
       "    <tr>\n",
       "      <th>0</th>\n",
       "      <td>endoplasmic_reticulum</td>\n",
       "      <td>endoplasmic_reticulum/endoplasmic_reticulum.14...</td>\n",
       "    </tr>\n",
       "    <tr>\n",
       "      <th>1</th>\n",
       "      <td>endoplasmic_reticulum</td>\n",
       "      <td>endoplasmic_reticulum/endoplasmic_reticulum.15...</td>\n",
       "    </tr>\n",
       "    <tr>\n",
       "      <th>2</th>\n",
       "      <td>endoplasmic_reticulum</td>\n",
       "      <td>endoplasmic_reticulum/endoplasmic_reticulum.64...</td>\n",
       "    </tr>\n",
       "    <tr>\n",
       "      <th>3</th>\n",
       "      <td>nucleus</td>\n",
       "      <td>nucleus/nucleus.2285.jpg</td>\n",
       "    </tr>\n",
       "    <tr>\n",
       "      <th>4</th>\n",
       "      <td>cytosol_and_nucleus</td>\n",
       "      <td>cytosol_and_nucleus/cytosol_and_nucleus.3063.jpg</td>\n",
       "    </tr>\n",
       "  </tbody>\n",
       "</table>\n",
       "</div>"
      ],
      "text/plain": [
       "                   label                                           filename\n",
       "0  endoplasmic_reticulum  endoplasmic_reticulum/endoplasmic_reticulum.14...\n",
       "1  endoplasmic_reticulum  endoplasmic_reticulum/endoplasmic_reticulum.15...\n",
       "2  endoplasmic_reticulum  endoplasmic_reticulum/endoplasmic_reticulum.64...\n",
       "3                nucleus                           nucleus/nucleus.2285.jpg\n",
       "4    cytosol_and_nucleus   cytosol_and_nucleus/cytosol_and_nucleus.3063.jpg"
      ]
     },
     "execution_count": 13,
     "metadata": {},
     "output_type": "execute_result"
    }
   ],
   "source": [
    "train_df.head()"
   ]
  },
  {
   "cell_type": "code",
   "execution_count": 14,
   "metadata": {},
   "outputs": [
    {
     "data": {
      "text/plain": [
       "{'cytosol_and_nucleus': 4892,\n",
       " 'nucleus': 2722,\n",
       " 'endoplasmic_reticulum': 1491,\n",
       " 'cytosol': 664,\n",
       " 'mitochondrion': 528,\n",
       " 'golgi': 436,\n",
       " 'vacuole': 303,\n",
       " 'periphery': 240,\n",
       " 'microtubules': 60}"
      ]
     },
     "execution_count": 14,
     "metadata": {},
     "output_type": "execute_result"
    }
   ],
   "source": [
    "train_count_dict = dict(train_df['label'].value_counts())\n",
    "train_count_dict"
   ]
  },
  {
   "cell_type": "code",
   "execution_count": 15,
   "metadata": {},
   "outputs": [
    {
     "data": {
      "text/plain": [
       "{'cytosol_and_nucleus': 266,\n",
       " 'nucleus': 120,\n",
       " 'endoplasmic_reticulum': 74,\n",
       " 'cytosol': 46,\n",
       " 'mitochondrion': 29,\n",
       " 'golgi': 28,\n",
       " 'vacuole': 21,\n",
       " 'periphery': 11,\n",
       " 'microtubules': 2}"
      ]
     },
     "execution_count": 15,
     "metadata": {},
     "output_type": "execute_result"
    }
   ],
   "source": [
    "test_count_dict = dict(test_df['label'].value_counts())\n",
    "test_count_dict"
   ]
  },
  {
   "cell_type": "code",
   "execution_count": 16,
   "metadata": {},
   "outputs": [
    {
     "data": {
      "text/plain": [
       "{'cytosol_and_nucleus': 258,\n",
       " 'nucleus': 142,\n",
       " 'endoplasmic_reticulum': 95,\n",
       " 'mitochondrion': 34,\n",
       " 'cytosol': 33,\n",
       " 'golgi': 30,\n",
       " 'vacuole': 23,\n",
       " 'periphery': 12,\n",
       " 'microtubules': 2}"
      ]
     },
     "execution_count": 16,
     "metadata": {},
     "output_type": "execute_result"
    }
   ],
   "source": [
    "validation_count_dict = dict(validation_df['label'].value_counts())\n",
    "validation_count_dict"
   ]
  },
  {
   "cell_type": "code",
   "execution_count": 17,
   "metadata": {},
   "outputs": [
    {
     "data": {
      "text/html": [
       "<div>\n",
       "<style scoped>\n",
       "    .dataframe tbody tr th:only-of-type {\n",
       "        vertical-align: middle;\n",
       "    }\n",
       "\n",
       "    .dataframe tbody tr th {\n",
       "        vertical-align: top;\n",
       "    }\n",
       "\n",
       "    .dataframe thead th {\n",
       "        text-align: right;\n",
       "    }\n",
       "</style>\n",
       "<table border=\"1\" class=\"dataframe\">\n",
       "  <thead>\n",
       "    <tr style=\"text-align: right;\">\n",
       "      <th></th>\n",
       "      <th>label</th>\n",
       "      <th>filename</th>\n",
       "    </tr>\n",
       "  </thead>\n",
       "  <tbody>\n",
       "    <tr>\n",
       "      <th>0</th>\n",
       "      <td>endoplasmic_reticulum</td>\n",
       "      <td>endoplasmic_reticulum/endoplasmic_reticulum.14...</td>\n",
       "    </tr>\n",
       "    <tr>\n",
       "      <th>1</th>\n",
       "      <td>endoplasmic_reticulum</td>\n",
       "      <td>endoplasmic_reticulum/endoplasmic_reticulum.15...</td>\n",
       "    </tr>\n",
       "    <tr>\n",
       "      <th>2</th>\n",
       "      <td>endoplasmic_reticulum</td>\n",
       "      <td>endoplasmic_reticulum/endoplasmic_reticulum.64...</td>\n",
       "    </tr>\n",
       "    <tr>\n",
       "      <th>3</th>\n",
       "      <td>nucleus</td>\n",
       "      <td>nucleus/nucleus.2285.jpg</td>\n",
       "    </tr>\n",
       "    <tr>\n",
       "      <th>4</th>\n",
       "      <td>cytosol_and_nucleus</td>\n",
       "      <td>cytosol_and_nucleus/cytosol_and_nucleus.3063.jpg</td>\n",
       "    </tr>\n",
       "    <tr>\n",
       "      <th>...</th>\n",
       "      <td>...</td>\n",
       "      <td>...</td>\n",
       "    </tr>\n",
       "    <tr>\n",
       "      <th>11331</th>\n",
       "      <td>cytosol_and_nucleus</td>\n",
       "      <td>cytosol_and_nucleus/cytosol_and_nucleus.4066.jpg</td>\n",
       "    </tr>\n",
       "    <tr>\n",
       "      <th>11332</th>\n",
       "      <td>cytosol_and_nucleus</td>\n",
       "      <td>cytosol_and_nucleus/cytosol_and_nucleus.3730.jpg</td>\n",
       "    </tr>\n",
       "    <tr>\n",
       "      <th>11333</th>\n",
       "      <td>nucleus</td>\n",
       "      <td>nucleus/nucleus.670.jpg</td>\n",
       "    </tr>\n",
       "    <tr>\n",
       "      <th>11334</th>\n",
       "      <td>cytosol_and_nucleus</td>\n",
       "      <td>cytosol_and_nucleus/cytosol_and_nucleus.4173.jpg</td>\n",
       "    </tr>\n",
       "    <tr>\n",
       "      <th>11335</th>\n",
       "      <td>cytosol_and_nucleus</td>\n",
       "      <td>cytosol_and_nucleus/cytosol_and_nucleus.650.jpg</td>\n",
       "    </tr>\n",
       "  </tbody>\n",
       "</table>\n",
       "<p>11336 rows × 2 columns</p>\n",
       "</div>"
      ],
      "text/plain": [
       "                       label  \\\n",
       "0      endoplasmic_reticulum   \n",
       "1      endoplasmic_reticulum   \n",
       "2      endoplasmic_reticulum   \n",
       "3                    nucleus   \n",
       "4        cytosol_and_nucleus   \n",
       "...                      ...   \n",
       "11331    cytosol_and_nucleus   \n",
       "11332    cytosol_and_nucleus   \n",
       "11333                nucleus   \n",
       "11334    cytosol_and_nucleus   \n",
       "11335    cytosol_and_nucleus   \n",
       "\n",
       "                                                filename  \n",
       "0      endoplasmic_reticulum/endoplasmic_reticulum.14...  \n",
       "1      endoplasmic_reticulum/endoplasmic_reticulum.15...  \n",
       "2      endoplasmic_reticulum/endoplasmic_reticulum.64...  \n",
       "3                               nucleus/nucleus.2285.jpg  \n",
       "4       cytosol_and_nucleus/cytosol_and_nucleus.3063.jpg  \n",
       "...                                                  ...  \n",
       "11331   cytosol_and_nucleus/cytosol_and_nucleus.4066.jpg  \n",
       "11332   cytosol_and_nucleus/cytosol_and_nucleus.3730.jpg  \n",
       "11333                            nucleus/nucleus.670.jpg  \n",
       "11334   cytosol_and_nucleus/cytosol_and_nucleus.4173.jpg  \n",
       "11335    cytosol_and_nucleus/cytosol_and_nucleus.650.jpg  \n",
       "\n",
       "[11336 rows x 2 columns]"
      ]
     },
     "execution_count": 17,
     "metadata": {},
     "output_type": "execute_result"
    }
   ],
   "source": [
    "upsampled_train_df = train_df.copy()\n",
    "upsampled_train_df"
   ]
  },
  {
   "cell_type": "code",
   "execution_count": 18,
   "metadata": {},
   "outputs": [],
   "source": [
    "for organelle in train_count_dict:\n",
    "    if train_count_dict[organelle] < 500:\n",
    "        upsampled_train_df = pd.concat([upsampled_train_df, resample(upsampled_train_df[upsampled_train_df['label'] == organelle], replace=True, n_samples=500 - train_count_dict[organelle], random_state = 42)])"
   ]
  },
  {
   "cell_type": "code",
   "execution_count": 19,
   "metadata": {},
   "outputs": [
    {
     "data": {
      "text/plain": [
       "cytosol_and_nucleus      4892\n",
       "nucleus                  2722\n",
       "endoplasmic_reticulum    1491\n",
       "cytosol                   664\n",
       "mitochondrion             528\n",
       "golgi                     500\n",
       "microtubules              500\n",
       "vacuole                   500\n",
       "periphery                 500\n",
       "Name: label, dtype: int64"
      ]
     },
     "execution_count": 19,
     "metadata": {},
     "output_type": "execute_result"
    }
   ],
   "source": [
    "upsampled_train_df['label'].value_counts()"
   ]
  },
  {
   "cell_type": "code",
   "execution_count": 20,
   "metadata": {},
   "outputs": [],
   "source": [
    "downsampled_train_df = pd.DataFrame(columns = ['label', 'filename'])"
   ]
  },
  {
   "cell_type": "code",
   "execution_count": 21,
   "metadata": {},
   "outputs": [],
   "source": [
    "for organelle in train_count_dict:\n",
    "    if train_count_dict[organelle] < 3000 and train_count_dict[organelle] >= 500:\n",
    "        row_count = train_count_dict[organelle]\n",
    "    elif train_count_dict[organelle] < 500:\n",
    "        row_count = 500\n",
    "    else:\n",
    "        row_count = 3000\n",
    "    downsampled_train_df = pd.concat([downsampled_train_df, resample(upsampled_train_df[upsampled_train_df['label'] == organelle], replace=False, n_samples=row_count, random_state = 42)])"
   ]
  },
  {
   "cell_type": "code",
   "execution_count": 22,
   "metadata": {},
   "outputs": [
    {
     "data": {
      "text/plain": [
       "cytosol_and_nucleus      3000\n",
       "nucleus                  2722\n",
       "endoplasmic_reticulum    1491\n",
       "cytosol                   664\n",
       "mitochondrion             528\n",
       "golgi                     500\n",
       "microtubules              500\n",
       "vacuole                   500\n",
       "periphery                 500\n",
       "Name: label, dtype: int64"
      ]
     },
     "execution_count": 22,
     "metadata": {},
     "output_type": "execute_result"
    }
   ],
   "source": [
    "downsampled_train_df['label'].value_counts()"
   ]
  },
  {
   "cell_type": "code",
   "execution_count": 23,
   "metadata": {},
   "outputs": [
    {
     "data": {
      "text/html": [
       "<div>\n",
       "<style scoped>\n",
       "    .dataframe tbody tr th:only-of-type {\n",
       "        vertical-align: middle;\n",
       "    }\n",
       "\n",
       "    .dataframe tbody tr th {\n",
       "        vertical-align: top;\n",
       "    }\n",
       "\n",
       "    .dataframe thead th {\n",
       "        text-align: right;\n",
       "    }\n",
       "</style>\n",
       "<table border=\"1\" class=\"dataframe\">\n",
       "  <thead>\n",
       "    <tr style=\"text-align: right;\">\n",
       "      <th></th>\n",
       "      <th>label</th>\n",
       "      <th>filename</th>\n",
       "    </tr>\n",
       "  </thead>\n",
       "  <tbody>\n",
       "    <tr>\n",
       "      <th>328</th>\n",
       "      <td>cytosol_and_nucleus</td>\n",
       "      <td>cytosol_and_nucleus/cytosol_and_nucleus.3108.jpg</td>\n",
       "    </tr>\n",
       "    <tr>\n",
       "      <th>196</th>\n",
       "      <td>cytosol_and_nucleus</td>\n",
       "      <td>cytosol_and_nucleus/cytosol_and_nucleus.4315.jpg</td>\n",
       "    </tr>\n",
       "    <tr>\n",
       "      <th>6135</th>\n",
       "      <td>cytosol_and_nucleus</td>\n",
       "      <td>cytosol_and_nucleus/cytosol_and_nucleus.3512.jpg</td>\n",
       "    </tr>\n",
       "    <tr>\n",
       "      <th>10197</th>\n",
       "      <td>cytosol_and_nucleus</td>\n",
       "      <td>cytosol_and_nucleus/cytosol_and_nucleus.3596.jpg</td>\n",
       "    </tr>\n",
       "    <tr>\n",
       "      <th>5617</th>\n",
       "      <td>cytosol_and_nucleus</td>\n",
       "      <td>cytosol_and_nucleus/cytosol_and_nucleus.2951.jpg</td>\n",
       "    </tr>\n",
       "    <tr>\n",
       "      <th>...</th>\n",
       "      <td>...</td>\n",
       "      <td>...</td>\n",
       "    </tr>\n",
       "    <tr>\n",
       "      <th>9344</th>\n",
       "      <td>microtubules</td>\n",
       "      <td>microtubules/microtubules.6.jpg</td>\n",
       "    </tr>\n",
       "    <tr>\n",
       "      <th>830</th>\n",
       "      <td>microtubules</td>\n",
       "      <td>microtubules/microtubules.57.jpg</td>\n",
       "    </tr>\n",
       "    <tr>\n",
       "      <th>10574</th>\n",
       "      <td>microtubules</td>\n",
       "      <td>microtubules/microtubules.10.jpg</td>\n",
       "    </tr>\n",
       "    <tr>\n",
       "      <th>4403</th>\n",
       "      <td>microtubules</td>\n",
       "      <td>microtubules/microtubules.44.jpg</td>\n",
       "    </tr>\n",
       "    <tr>\n",
       "      <th>3156</th>\n",
       "      <td>microtubules</td>\n",
       "      <td>microtubules/microtubules.23.jpg</td>\n",
       "    </tr>\n",
       "  </tbody>\n",
       "</table>\n",
       "<p>10405 rows × 2 columns</p>\n",
       "</div>"
      ],
      "text/plain": [
       "                     label                                          filename\n",
       "328    cytosol_and_nucleus  cytosol_and_nucleus/cytosol_and_nucleus.3108.jpg\n",
       "196    cytosol_and_nucleus  cytosol_and_nucleus/cytosol_and_nucleus.4315.jpg\n",
       "6135   cytosol_and_nucleus  cytosol_and_nucleus/cytosol_and_nucleus.3512.jpg\n",
       "10197  cytosol_and_nucleus  cytosol_and_nucleus/cytosol_and_nucleus.3596.jpg\n",
       "5617   cytosol_and_nucleus  cytosol_and_nucleus/cytosol_and_nucleus.2951.jpg\n",
       "...                    ...                                               ...\n",
       "9344          microtubules                   microtubules/microtubules.6.jpg\n",
       "830           microtubules                  microtubules/microtubules.57.jpg\n",
       "10574         microtubules                  microtubules/microtubules.10.jpg\n",
       "4403          microtubules                  microtubules/microtubules.44.jpg\n",
       "3156          microtubules                  microtubules/microtubules.23.jpg\n",
       "\n",
       "[10405 rows x 2 columns]"
      ]
     },
     "execution_count": 23,
     "metadata": {},
     "output_type": "execute_result"
    }
   ],
   "source": [
    "downsampled_train_df"
   ]
  },
  {
   "cell_type": "code",
   "execution_count": 24,
   "metadata": {},
   "outputs": [
    {
     "name": "stdout",
     "output_type": "stream",
     "text": [
      "Downloading data from https://storage.googleapis.com/tensorflow/keras-applications/xception/xception_weights_tf_dim_ordering_tf_kernels_notop.h5\n",
      "83689472/83683744 [==============================] - 8s 0us/step\n"
     ]
    }
   ],
   "source": [
    "conv_base = tf.keras.applications.Xception(\n",
    "    include_top=False, weights='imagenet',\n",
    "    input_shape=(299,299,3)\n",
    ")\n",
    "\n",
    "pombEye_xception= tf.keras.models.Sequential()\n",
    "\n",
    "pombEye_xception.add(conv_base)\n",
    "\n",
    "pombEye_xception.add(tf.keras.layers.GlobalAveragePooling2D())\n",
    "pombEye_xception.add(tf.keras.layers.Dense(len(downsampled_train_df['label'].unique())))\n",
    "pombEye_xception.add(tf.keras.layers.Activation('softmax', dtype='float32', name='pombEye_prediction'))\n"
   ]
  },
  {
   "cell_type": "code",
   "execution_count": 25,
   "metadata": {},
   "outputs": [
    {
     "name": "stdout",
     "output_type": "stream",
     "text": [
      "input_1\n",
      "block1_conv1\n",
      "block1_conv1_bn\n",
      "block1_conv1_act\n",
      "block1_conv2\n",
      "block1_conv2_bn\n",
      "block1_conv2_act\n",
      "block2_sepconv1\n",
      "block2_sepconv1_bn\n",
      "block2_sepconv2_act\n",
      "block2_sepconv2\n",
      "block2_sepconv2_bn\n",
      "conv2d\n",
      "block2_pool\n",
      "batch_normalization\n",
      "add\n",
      "block3_sepconv1_act\n",
      "block3_sepconv1\n",
      "block3_sepconv1_bn\n",
      "block3_sepconv2_act\n",
      "block3_sepconv2\n",
      "block3_sepconv2_bn\n",
      "conv2d_1\n",
      "block3_pool\n",
      "batch_normalization_1\n",
      "add_1\n",
      "block4_sepconv1_act\n",
      "block4_sepconv1\n",
      "block4_sepconv1_bn\n",
      "block4_sepconv2_act\n",
      "block4_sepconv2\n",
      "block4_sepconv2_bn\n",
      "conv2d_2\n",
      "block4_pool\n",
      "batch_normalization_2\n",
      "add_2\n",
      "block5_sepconv1_act\n",
      "block5_sepconv1\n",
      "block5_sepconv1_bn\n",
      "block5_sepconv2_act\n",
      "block5_sepconv2\n",
      "block5_sepconv2_bn\n",
      "block5_sepconv3_act\n",
      "block5_sepconv3\n",
      "block5_sepconv3_bn\n",
      "add_3\n",
      "block6_sepconv1_act\n",
      "block6_sepconv1\n",
      "block6_sepconv1_bn\n",
      "block6_sepconv2_act\n",
      "block6_sepconv2\n",
      "block6_sepconv2_bn\n",
      "block6_sepconv3_act\n",
      "block6_sepconv3\n",
      "block6_sepconv3_bn\n",
      "add_4\n",
      "block7_sepconv1_act\n",
      "block7_sepconv1\n",
      "block7_sepconv1_bn\n",
      "block7_sepconv2_act\n",
      "block7_sepconv2\n",
      "block7_sepconv2_bn\n",
      "block7_sepconv3_act\n",
      "block7_sepconv3\n",
      "block7_sepconv3_bn\n",
      "add_5\n",
      "block8_sepconv1_act\n",
      "block8_sepconv1\n",
      "block8_sepconv1_bn\n",
      "block8_sepconv2_act\n",
      "block8_sepconv2\n",
      "block8_sepconv2_bn\n",
      "block8_sepconv3_act\n",
      "block8_sepconv3\n",
      "block8_sepconv3_bn\n",
      "add_6\n",
      "block9_sepconv1_act\n",
      "block9_sepconv1\n",
      "block9_sepconv1_bn\n",
      "block9_sepconv2_act\n",
      "block9_sepconv2\n",
      "block9_sepconv2_bn\n",
      "block9_sepconv3_act\n",
      "block9_sepconv3\n",
      "block9_sepconv3_bn\n",
      "add_7\n",
      "block10_sepconv1_act\n",
      "block10_sepconv1\n",
      "block10_sepconv1_bn\n",
      "block10_sepconv2_act\n",
      "block10_sepconv2\n",
      "block10_sepconv2_bn\n",
      "block10_sepconv3_act\n",
      "block10_sepconv3\n",
      "block10_sepconv3_bn\n",
      "add_8\n",
      "block11_sepconv1_act\n",
      "block11_sepconv1\n",
      "block11_sepconv1_bn\n",
      "block11_sepconv2_act\n",
      "block11_sepconv2\n",
      "block11_sepconv2_bn\n",
      "block11_sepconv3_act\n",
      "block11_sepconv3\n",
      "block11_sepconv3_bn\n",
      "add_9\n",
      "block12_sepconv1_act\n",
      "block12_sepconv1\n",
      "block12_sepconv1_bn\n",
      "block12_sepconv2_act\n",
      "block12_sepconv2\n",
      "block12_sepconv2_bn\n",
      "block12_sepconv3_act\n",
      "block12_sepconv3\n",
      "block12_sepconv3_bn\n",
      "add_10\n",
      "block13_sepconv1_act\n",
      "block13_sepconv1\n",
      "block13_sepconv1_bn\n",
      "block13_sepconv2_act\n",
      "block13_sepconv2\n",
      "block13_sepconv2_bn\n",
      "conv2d_3\n",
      "block13_pool\n",
      "batch_normalization_3\n",
      "add_11\n",
      "block14_sepconv1\n",
      "block14_sepconv1_bn\n",
      "block14_sepconv1_act\n",
      "block14_sepconv2\n",
      "block14_sepconv2_bn\n",
      "block14_sepconv2_act\n"
     ]
    }
   ],
   "source": [
    "for layer in conv_base.layers:\n",
    "    print(layer.name)"
   ]
  },
  {
   "cell_type": "code",
   "execution_count": 26,
   "metadata": {},
   "outputs": [
    {
     "name": "stdout",
     "output_type": "stream",
     "text": [
      "Model: \"sequential\"\n",
      "_________________________________________________________________\n",
      "Layer (type)                 Output Shape              Param #   \n",
      "=================================================================\n",
      "xception (Functional)        (None, 10, 10, 2048)      20861480  \n",
      "_________________________________________________________________\n",
      "global_average_pooling2d (Gl (None, 2048)              0         \n",
      "_________________________________________________________________\n",
      "dense (Dense)                (None, 9)                 18441     \n",
      "_________________________________________________________________\n",
      "pombEye_prediction (Activati (None, 9)                 0         \n",
      "=================================================================\n",
      "Total params: 20,879,921\n",
      "Trainable params: 20,825,393\n",
      "Non-trainable params: 54,528\n",
      "_________________________________________________________________\n"
     ]
    }
   ],
   "source": [
    "pombEye_xception.summary()"
   ]
  },
  {
   "cell_type": "code",
   "execution_count": 27,
   "metadata": {},
   "outputs": [],
   "source": [
    "conv_base.trainable = False"
   ]
  },
  {
   "cell_type": "code",
   "execution_count": 28,
   "metadata": {},
   "outputs": [
    {
     "name": "stdout",
     "output_type": "stream",
     "text": [
      "Model: \"sequential\"\n",
      "_________________________________________________________________\n",
      "Layer (type)                 Output Shape              Param #   \n",
      "=================================================================\n",
      "xception (Functional)        (None, 10, 10, 2048)      20861480  \n",
      "_________________________________________________________________\n",
      "global_average_pooling2d (Gl (None, 2048)              0         \n",
      "_________________________________________________________________\n",
      "dense (Dense)                (None, 9)                 18441     \n",
      "_________________________________________________________________\n",
      "pombEye_prediction (Activati (None, 9)                 0         \n",
      "=================================================================\n",
      "Total params: 20,879,921\n",
      "Trainable params: 18,441\n",
      "Non-trainable params: 20,861,480\n",
      "_________________________________________________________________\n"
     ]
    }
   ],
   "source": [
    "pombEye_xception.summary()"
   ]
  },
  {
   "cell_type": "code",
   "execution_count": 29,
   "metadata": {},
   "outputs": [
    {
     "name": "stdout",
     "output_type": "stream",
     "text": [
      "Found 10405 validated image filenames belonging to 9 classes.\n",
      "Found 629 validated image filenames belonging to 9 classes.\n"
     ]
    }
   ],
   "source": [
    "train_datagen = tf.keras.preprocessing.image.ImageDataGenerator(\n",
    "rescale = 1./255,\n",
    "horizontal_flip = True,\n",
    "vertical_flip = True,\n",
    "rotation_range=360,\n",
    "width_shift_range=0.3,\n",
    "height_shift_range=0.3,\n",
    "brightness_range=[0.8,1.2],\n",
    "zoom_range=[0.8, 1.2],\n",
    "fill_mode=\"constant\",\n",
    "cval=20.0)\n",
    "\n",
    "valid_datagen = tf.keras.preprocessing.image.ImageDataGenerator(rescale=1./255) \n",
    "\n",
    "batchSize = 32\n",
    "\n",
    "train_generator=train_datagen.flow_from_dataframe(\n",
    "dataframe=downsampled_train_df,\n",
    "directory=\"images\",\n",
    "x_col=\"filename\",\n",
    "y_col='label',\n",
    "batch_size=batchSize,\n",
    "seed=42,\n",
    "shuffle=True,\n",
    "class_mode='categorical',\n",
    "target_size=(299,299))\n",
    "\n",
    "valid_generator=valid_datagen.flow_from_dataframe(\n",
    "dataframe=validation_df,\n",
    "directory=\"images\",\n",
    "x_col=\"filename\",\n",
    "y_col='label',\n",
    "batch_size=batchSize,\n",
    "seed=42,\n",
    "shuffle=True,\n",
    "class_mode='categorical',\n",
    "target_size=(299,299))"
   ]
  },
  {
   "cell_type": "code",
   "execution_count": 30,
   "metadata": {},
   "outputs": [],
   "source": [
    "pombEye_xception.compile(optimizer= tf.keras.optimizers.RMSprop(lr=1e-5),\n",
    "          loss = \"categorical_crossentropy\",\n",
    "          metrics = ['accuracy']) "
   ]
  },
  {
   "cell_type": "code",
   "execution_count": 31,
   "metadata": {},
   "outputs": [],
   "source": [
    "reduce_lr = tf.keras.callbacks.ReduceLROnPlateau(monitor='val_loss', factor=0.3,\n",
    "                              patience=3, verbose = 1)\n",
    "\n",
    "early_stopping_cb = tf.keras.callbacks.EarlyStopping(monitor='val_loss',patience=7, restore_best_weights=True)\n",
    "\n",
    "checkpoint = tf.keras.callbacks.ModelCheckpoint(\"pombEye_xception.h5\", monitor='val_loss', verbose=1, \n",
    "                                                save_best_only=True, save_weights_only=False, mode='auto', save_freq='epoch')\n",
    "\n",
    "log_dir = \"logs/fit/\" + datetime.datetime.now().strftime(\"%Y%m%d-%H%M%S\")\n",
    "tensorboard_cb = tf.keras.callbacks.TensorBoard(log_dir=log_dir, histogram_freq=1)"
   ]
  },
  {
   "cell_type": "code",
   "execution_count": 32,
   "metadata": {},
   "outputs": [
    {
     "name": "stdout",
     "output_type": "stream",
     "text": [
      "Epoch 1/30\n",
      "325/325 [==============================] - 123s 367ms/step - loss: 2.0282 - accuracy: 0.3476 - val_loss: 1.8481 - val_accuracy: 0.4984\n",
      "\n",
      "Epoch 00001: val_loss improved from inf to 1.84806, saving model to pombEye_xception.h5\n",
      "Epoch 2/30\n",
      "325/325 [==============================] - 118s 363ms/step - loss: 1.7873 - accuracy: 0.4794 - val_loss: 1.6652 - val_accuracy: 0.5641\n",
      "\n",
      "Epoch 00002: val_loss improved from 1.84806 to 1.66524, saving model to pombEye_xception.h5\n",
      "Epoch 3/30\n",
      "325/325 [==============================] - 118s 362ms/step - loss: 1.6716 - accuracy: 0.4996 - val_loss: 1.5482 - val_accuracy: 0.6398\n",
      "\n",
      "Epoch 00003: val_loss improved from 1.66524 to 1.54819, saving model to pombEye_xception.h5\n",
      "Epoch 4/30\n",
      "325/325 [==============================] - 117s 361ms/step - loss: 1.5844 - accuracy: 0.5287 - val_loss: 1.4738 - val_accuracy: 0.6497\n",
      "\n",
      "Epoch 00004: val_loss improved from 1.54819 to 1.47379, saving model to pombEye_xception.h5\n",
      "Epoch 5/30\n",
      "325/325 [==============================] - 117s 361ms/step - loss: 1.5014 - accuracy: 0.5713 - val_loss: 1.4194 - val_accuracy: 0.6497\n",
      "\n",
      "Epoch 00005: val_loss improved from 1.47379 to 1.41938, saving model to pombEye_xception.h5\n",
      "Epoch 6/30\n",
      "325/325 [==============================] - 118s 363ms/step - loss: 1.4356 - accuracy: 0.5870 - val_loss: 1.3739 - val_accuracy: 0.6447\n",
      "\n",
      "Epoch 00006: val_loss improved from 1.41938 to 1.37391, saving model to pombEye_xception.h5\n",
      "Epoch 7/30\n",
      "325/325 [==============================] - 118s 362ms/step - loss: 1.3972 - accuracy: 0.5863 - val_loss: 1.3177 - val_accuracy: 0.6546\n",
      "\n",
      "Epoch 00007: val_loss improved from 1.37391 to 1.31768, saving model to pombEye_xception.h5\n",
      "Epoch 8/30\n",
      "325/325 [==============================] - 118s 362ms/step - loss: 1.3344 - accuracy: 0.5974 - val_loss: 1.2869 - val_accuracy: 0.6530\n",
      "\n",
      "Epoch 00008: val_loss improved from 1.31768 to 1.28693, saving model to pombEye_xception.h5\n",
      "Epoch 9/30\n",
      "325/325 [==============================] - 117s 361ms/step - loss: 1.2872 - accuracy: 0.6040 - val_loss: 1.2727 - val_accuracy: 0.6431\n",
      "\n",
      "Epoch 00009: val_loss improved from 1.28693 to 1.27267, saving model to pombEye_xception.h5\n",
      "Epoch 10/30\n",
      "325/325 [==============================] - 117s 360ms/step - loss: 1.2732 - accuracy: 0.5998 - val_loss: 1.2363 - val_accuracy: 0.6513\n",
      "\n",
      "Epoch 00010: val_loss improved from 1.27267 to 1.23634, saving model to pombEye_xception.h5\n",
      "Epoch 11/30\n",
      "325/325 [==============================] - 118s 364ms/step - loss: 1.2409 - accuracy: 0.6011 - val_loss: 1.2158 - val_accuracy: 0.6595\n",
      "\n",
      "Epoch 00011: val_loss improved from 1.23634 to 1.21579, saving model to pombEye_xception.h5\n",
      "Epoch 12/30\n",
      "325/325 [==============================] - 117s 361ms/step - loss: 1.2050 - accuracy: 0.6159 - val_loss: 1.2020 - val_accuracy: 0.6612\n",
      "\n",
      "Epoch 00012: val_loss improved from 1.21579 to 1.20201, saving model to pombEye_xception.h5\n",
      "Epoch 13/30\n",
      "325/325 [==============================] - 117s 360ms/step - loss: 1.1853 - accuracy: 0.6163 - val_loss: 1.1708 - val_accuracy: 0.6678\n",
      "\n",
      "Epoch 00013: val_loss improved from 1.20201 to 1.17084, saving model to pombEye_xception.h5\n",
      "Epoch 14/30\n",
      "325/325 [==============================] - 117s 359ms/step - loss: 1.1529 - accuracy: 0.6212 - val_loss: 1.1627 - val_accuracy: 0.6661\n",
      "\n",
      "Epoch 00014: val_loss improved from 1.17084 to 1.16272, saving model to pombEye_xception.h5\n",
      "Epoch 15/30\n",
      "325/325 [==============================] - 117s 359ms/step - loss: 1.1176 - accuracy: 0.6356 - val_loss: 1.1447 - val_accuracy: 0.6727\n",
      "\n",
      "Epoch 00015: val_loss improved from 1.16272 to 1.14468, saving model to pombEye_xception.h5\n",
      "Epoch 16/30\n",
      "325/325 [==============================] - 117s 359ms/step - loss: 1.1020 - accuracy: 0.6408 - val_loss: 1.1274 - val_accuracy: 0.6727\n",
      "\n",
      "Epoch 00016: val_loss improved from 1.14468 to 1.12736, saving model to pombEye_xception.h5\n",
      "Epoch 17/30\n",
      "325/325 [==============================] - 117s 360ms/step - loss: 1.0876 - accuracy: 0.6430 - val_loss: 1.1173 - val_accuracy: 0.6727\n",
      "\n",
      "Epoch 00017: val_loss improved from 1.12736 to 1.11728, saving model to pombEye_xception.h5\n",
      "Epoch 18/30\n",
      "325/325 [==============================] - 118s 363ms/step - loss: 1.0736 - accuracy: 0.6481 - val_loss: 1.1007 - val_accuracy: 0.6875\n",
      "\n",
      "Epoch 00018: val_loss improved from 1.11728 to 1.10065, saving model to pombEye_xception.h5\n",
      "Epoch 19/30\n",
      "325/325 [==============================] - 119s 364ms/step - loss: 1.0518 - accuracy: 0.6500 - val_loss: 1.0805 - val_accuracy: 0.7007\n",
      "\n",
      "Epoch 00019: val_loss improved from 1.10065 to 1.08055, saving model to pombEye_xception.h5\n",
      "Epoch 20/30\n",
      "325/325 [==============================] - 118s 362ms/step - loss: 1.0346 - accuracy: 0.6634 - val_loss: 1.0662 - val_accuracy: 0.7007\n",
      "\n",
      "Epoch 00020: val_loss improved from 1.08055 to 1.06623, saving model to pombEye_xception.h5\n",
      "Epoch 21/30\n",
      "325/325 [==============================] - 118s 363ms/step - loss: 1.0226 - accuracy: 0.6720 - val_loss: 1.0648 - val_accuracy: 0.6974\n",
      "\n",
      "Epoch 00021: val_loss improved from 1.06623 to 1.06484, saving model to pombEye_xception.h5\n",
      "Epoch 22/30\n",
      "325/325 [==============================] - 119s 366ms/step - loss: 1.0152 - accuracy: 0.6625 - val_loss: 1.0446 - val_accuracy: 0.7105\n",
      "\n",
      "Epoch 00022: val_loss improved from 1.06484 to 1.04458, saving model to pombEye_xception.h5\n",
      "Epoch 23/30\n",
      "325/325 [==============================] - 117s 361ms/step - loss: 1.0005 - accuracy: 0.6707 - val_loss: 1.0401 - val_accuracy: 0.7072\n",
      "\n",
      "Epoch 00023: val_loss improved from 1.04458 to 1.04008, saving model to pombEye_xception.h5\n",
      "Epoch 24/30\n",
      "325/325 [==============================] - 118s 361ms/step - loss: 0.9984 - accuracy: 0.6699 - val_loss: 1.0260 - val_accuracy: 0.7089\n",
      "\n",
      "Epoch 00024: val_loss improved from 1.04008 to 1.02603, saving model to pombEye_xception.h5\n",
      "Epoch 25/30\n",
      "325/325 [==============================] - 118s 363ms/step - loss: 0.9598 - accuracy: 0.6802 - val_loss: 1.0076 - val_accuracy: 0.7171\n",
      "\n",
      "Epoch 00025: val_loss improved from 1.02603 to 1.00756, saving model to pombEye_xception.h5\n",
      "Epoch 26/30\n",
      "325/325 [==============================] - 118s 362ms/step - loss: 0.9761 - accuracy: 0.6728 - val_loss: 1.0124 - val_accuracy: 0.7155\n",
      "\n",
      "Epoch 00026: val_loss did not improve from 1.00756\n",
      "Epoch 27/30\n",
      "325/325 [==============================] - 118s 362ms/step - loss: 0.9444 - accuracy: 0.6869 - val_loss: 0.9883 - val_accuracy: 0.7303\n",
      "\n",
      "Epoch 00027: val_loss improved from 1.00756 to 0.98831, saving model to pombEye_xception.h5\n",
      "Epoch 28/30\n",
      "325/325 [==============================] - 118s 361ms/step - loss: 0.9491 - accuracy: 0.6852 - val_loss: 0.9979 - val_accuracy: 0.7188\n",
      "\n",
      "Epoch 00028: val_loss did not improve from 0.98831\n",
      "Epoch 29/30\n",
      "325/325 [==============================] - 118s 362ms/step - loss: 0.9402 - accuracy: 0.6925 - val_loss: 0.9934 - val_accuracy: 0.7188\n",
      "\n",
      "Epoch 00029: val_loss did not improve from 0.98831\n",
      "Epoch 30/30\n",
      "325/325 [==============================] - 117s 361ms/step - loss: 0.9342 - accuracy: 0.6913 - val_loss: 0.9775 - val_accuracy: 0.7237\n",
      "\n",
      "Epoch 00030: val_loss improved from 0.98831 to 0.97747, saving model to pombEye_xception.h5\n"
     ]
    }
   ],
   "source": [
    "history = pombEye_xception.fit(train_generator,steps_per_epoch = train_generator.n//train_generator.batch_size,\n",
    "                              epochs= 30,callbacks=[checkpoint,reduce_lr, early_stopping_cb, tensorboard_cb],\n",
    "                            validation_data = valid_generator,\n",
    "                            validation_steps= valid_generator.n//valid_generator.batch_size,\n",
    "                              shuffle=True)"
   ]
  },
  {
   "cell_type": "code",
   "execution_count": 33,
   "metadata": {},
   "outputs": [
    {
     "name": "stdout",
     "output_type": "stream",
     "text": [
      "Epoch 1/100\n",
      "325/325 [==============================] - 121s 366ms/step - loss: 1.3183 - accuracy: 0.5643 - val_loss: 0.9740 - val_accuracy: 0.7385\n",
      "\n",
      "Epoch 00001: val_loss improved from 0.97747 to 0.97397, saving model to pombEye_xception.h5\n",
      "Epoch 2/100\n",
      "325/325 [==============================] - 118s 364ms/step - loss: 0.9039 - accuracy: 0.7032 - val_loss: 0.7767 - val_accuracy: 0.7747\n",
      "\n",
      "Epoch 00002: val_loss improved from 0.97397 to 0.77672, saving model to pombEye_xception.h5\n",
      "Epoch 3/100\n",
      "325/325 [==============================] - 118s 363ms/step - loss: 0.7771 - accuracy: 0.7423 - val_loss: 0.7049 - val_accuracy: 0.7796\n",
      "\n",
      "Epoch 00003: val_loss improved from 0.77672 to 0.70494, saving model to pombEye_xception.h5\n",
      "Epoch 4/100\n",
      "325/325 [==============================] - 119s 365ms/step - loss: 0.7031 - accuracy: 0.7673 - val_loss: 0.6551 - val_accuracy: 0.7911\n",
      "\n",
      "Epoch 00004: val_loss improved from 0.70494 to 0.65511, saving model to pombEye_xception.h5\n",
      "Epoch 5/100\n",
      "325/325 [==============================] - 120s 370ms/step - loss: 0.6457 - accuracy: 0.7811 - val_loss: 0.6167 - val_accuracy: 0.7993\n",
      "\n",
      "Epoch 00005: val_loss improved from 0.65511 to 0.61668, saving model to pombEye_xception.h5\n",
      "Epoch 6/100\n",
      "325/325 [==============================] - 120s 368ms/step - loss: 0.6235 - accuracy: 0.7921 - val_loss: 0.5757 - val_accuracy: 0.8092\n",
      "\n",
      "Epoch 00006: val_loss improved from 0.61668 to 0.57573, saving model to pombEye_xception.h5\n",
      "Epoch 7/100\n",
      "325/325 [==============================] - 119s 365ms/step - loss: 0.5675 - accuracy: 0.8116 - val_loss: 0.5722 - val_accuracy: 0.8026\n",
      "\n",
      "Epoch 00007: val_loss improved from 0.57573 to 0.57218, saving model to pombEye_xception.h5\n",
      "Epoch 8/100\n",
      "325/325 [==============================] - 119s 365ms/step - loss: 0.5509 - accuracy: 0.8182 - val_loss: 0.5512 - val_accuracy: 0.8059\n",
      "\n",
      "Epoch 00008: val_loss improved from 0.57218 to 0.55116, saving model to pombEye_xception.h5\n",
      "Epoch 9/100\n",
      "325/325 [==============================] - 119s 366ms/step - loss: 0.5262 - accuracy: 0.8225 - val_loss: 0.5283 - val_accuracy: 0.8158\n",
      "\n",
      "Epoch 00009: val_loss improved from 0.55116 to 0.52829, saving model to pombEye_xception.h5\n",
      "Epoch 10/100\n",
      "325/325 [==============================] - 120s 368ms/step - loss: 0.5142 - accuracy: 0.8334 - val_loss: 0.5213 - val_accuracy: 0.8207\n",
      "\n",
      "Epoch 00010: val_loss improved from 0.52829 to 0.52134, saving model to pombEye_xception.h5\n",
      "Epoch 11/100\n",
      "325/325 [==============================] - 120s 370ms/step - loss: 0.4916 - accuracy: 0.8385 - val_loss: 0.4963 - val_accuracy: 0.8322\n",
      "\n",
      "Epoch 00011: val_loss improved from 0.52134 to 0.49628, saving model to pombEye_xception.h5\n",
      "Epoch 12/100\n",
      "325/325 [==============================] - 119s 368ms/step - loss: 0.4820 - accuracy: 0.8397 - val_loss: 0.4915 - val_accuracy: 0.8322\n",
      "\n",
      "Epoch 00012: val_loss improved from 0.49628 to 0.49153, saving model to pombEye_xception.h5\n",
      "Epoch 13/100\n",
      "325/325 [==============================] - 119s 365ms/step - loss: 0.4624 - accuracy: 0.8454 - val_loss: 0.4786 - val_accuracy: 0.8438\n",
      "\n",
      "Epoch 00013: val_loss improved from 0.49153 to 0.47861, saving model to pombEye_xception.h5\n",
      "Epoch 14/100\n",
      "325/325 [==============================] - 120s 368ms/step - loss: 0.4266 - accuracy: 0.8605 - val_loss: 0.4855 - val_accuracy: 0.8355\n",
      "\n",
      "Epoch 00014: val_loss did not improve from 0.47861\n",
      "Epoch 15/100\n",
      "325/325 [==============================] - 119s 366ms/step - loss: 0.4125 - accuracy: 0.8637 - val_loss: 0.4643 - val_accuracy: 0.8454\n",
      "\n",
      "Epoch 00015: val_loss improved from 0.47861 to 0.46426, saving model to pombEye_xception.h5\n",
      "Epoch 16/100\n",
      "325/325 [==============================] - 120s 367ms/step - loss: 0.4171 - accuracy: 0.8527 - val_loss: 0.4636 - val_accuracy: 0.8421\n",
      "\n",
      "Epoch 00016: val_loss improved from 0.46426 to 0.46363, saving model to pombEye_xception.h5\n",
      "Epoch 17/100\n",
      "325/325 [==============================] - 120s 367ms/step - loss: 0.4073 - accuracy: 0.8645 - val_loss: 0.4589 - val_accuracy: 0.8421\n",
      "\n",
      "Epoch 00017: val_loss improved from 0.46363 to 0.45894, saving model to pombEye_xception.h5\n",
      "Epoch 18/100\n",
      "325/325 [==============================] - 119s 365ms/step - loss: 0.3832 - accuracy: 0.8739 - val_loss: 0.4495 - val_accuracy: 0.8487\n",
      "\n",
      "Epoch 00018: val_loss improved from 0.45894 to 0.44952, saving model to pombEye_xception.h5\n",
      "Epoch 19/100\n",
      "325/325 [==============================] - 119s 366ms/step - loss: 0.3891 - accuracy: 0.8694 - val_loss: 0.4413 - val_accuracy: 0.8586\n",
      "\n",
      "Epoch 00019: val_loss improved from 0.44952 to 0.44126, saving model to pombEye_xception.h5\n",
      "Epoch 20/100\n",
      "325/325 [==============================] - 119s 365ms/step - loss: 0.3872 - accuracy: 0.8713 - val_loss: 0.4307 - val_accuracy: 0.8586\n",
      "\n",
      "Epoch 00020: val_loss improved from 0.44126 to 0.43066, saving model to pombEye_xception.h5\n",
      "Epoch 21/100\n",
      "325/325 [==============================] - 119s 366ms/step - loss: 0.3671 - accuracy: 0.8762 - val_loss: 0.4271 - val_accuracy: 0.8618\n",
      "\n",
      "Epoch 00021: val_loss improved from 0.43066 to 0.42714, saving model to pombEye_xception.h5\n",
      "Epoch 22/100\n",
      "325/325 [==============================] - 119s 366ms/step - loss: 0.3712 - accuracy: 0.8792 - val_loss: 0.4254 - val_accuracy: 0.8553\n",
      "\n",
      "Epoch 00022: val_loss improved from 0.42714 to 0.42536, saving model to pombEye_xception.h5\n",
      "Epoch 23/100\n",
      "325/325 [==============================] - 120s 368ms/step - loss: 0.3463 - accuracy: 0.8859 - val_loss: 0.4137 - val_accuracy: 0.8701\n",
      "\n",
      "Epoch 00023: val_loss improved from 0.42536 to 0.41374, saving model to pombEye_xception.h5\n",
      "Epoch 24/100\n",
      "325/325 [==============================] - 120s 367ms/step - loss: 0.3492 - accuracy: 0.8828 - val_loss: 0.4151 - val_accuracy: 0.8651\n",
      "\n",
      "Epoch 00024: val_loss did not improve from 0.41374\n",
      "Epoch 25/100\n",
      "325/325 [==============================] - 118s 364ms/step - loss: 0.3351 - accuracy: 0.8848 - val_loss: 0.3837 - val_accuracy: 0.8766\n",
      "\n",
      "Epoch 00025: val_loss improved from 0.41374 to 0.38369, saving model to pombEye_xception.h5\n",
      "Epoch 26/100\n",
      "325/325 [==============================] - 118s 362ms/step - loss: 0.3383 - accuracy: 0.8859 - val_loss: 0.3975 - val_accuracy: 0.8717\n",
      "\n",
      "Epoch 00026: val_loss did not improve from 0.38369\n",
      "Epoch 27/100\n",
      "325/325 [==============================] - 119s 366ms/step - loss: 0.3203 - accuracy: 0.8909 - val_loss: 0.4072 - val_accuracy: 0.8668\n",
      "\n",
      "Epoch 00027: val_loss did not improve from 0.38369\n",
      "Epoch 28/100\n",
      "325/325 [==============================] - 120s 368ms/step - loss: 0.3227 - accuracy: 0.8894 - val_loss: 0.3687 - val_accuracy: 0.8783\n",
      "\n",
      "Epoch 00028: val_loss improved from 0.38369 to 0.36867, saving model to pombEye_xception.h5\n",
      "Epoch 29/100\n",
      "325/325 [==============================] - 120s 367ms/step - loss: 0.3088 - accuracy: 0.8887 - val_loss: 0.3867 - val_accuracy: 0.8717\n",
      "\n",
      "Epoch 00029: val_loss did not improve from 0.36867\n",
      "Epoch 30/100\n",
      "325/325 [==============================] - 119s 365ms/step - loss: 0.3208 - accuracy: 0.8890 - val_loss: 0.3844 - val_accuracy: 0.8750\n",
      "\n",
      "Epoch 00030: val_loss did not improve from 0.36867\n",
      "Epoch 31/100\n",
      "325/325 [==============================] - 120s 368ms/step - loss: 0.2999 - accuracy: 0.9006 - val_loss: 0.3840 - val_accuracy: 0.8684\n",
      "\n",
      "Epoch 00031: val_loss did not improve from 0.36867\n",
      "\n",
      "Epoch 00031: ReduceLROnPlateau reducing learning rate to 2.9999999242136253e-06.\n",
      "Epoch 32/100\n",
      "325/325 [==============================] - 120s 368ms/step - loss: 0.2962 - accuracy: 0.8993 - val_loss: 0.3569 - val_accuracy: 0.8783\n",
      "\n",
      "Epoch 00032: val_loss improved from 0.36867 to 0.35689, saving model to pombEye_xception.h5\n",
      "Epoch 33/100\n",
      "325/325 [==============================] - 118s 363ms/step - loss: 0.2957 - accuracy: 0.8980 - val_loss: 0.3665 - val_accuracy: 0.8832\n",
      "\n",
      "Epoch 00033: val_loss did not improve from 0.35689\n",
      "Epoch 34/100\n",
      "325/325 [==============================] - 118s 363ms/step - loss: 0.3035 - accuracy: 0.8986 - val_loss: 0.3851 - val_accuracy: 0.8717\n",
      "\n",
      "Epoch 00034: val_loss did not improve from 0.35689\n",
      "Epoch 35/100\n",
      "325/325 [==============================] - 118s 364ms/step - loss: 0.2982 - accuracy: 0.9015 - val_loss: 0.3607 - val_accuracy: 0.8816\n",
      "\n",
      "Epoch 00035: val_loss did not improve from 0.35689\n",
      "\n",
      "Epoch 00035: ReduceLROnPlateau reducing learning rate to 8.999999636216671e-07.\n",
      "Epoch 36/100\n",
      "325/325 [==============================] - 118s 364ms/step - loss: 0.2993 - accuracy: 0.8986 - val_loss: 0.3735 - val_accuracy: 0.8766\n",
      "\n",
      "Epoch 00036: val_loss did not improve from 0.35689\n",
      "Epoch 37/100\n",
      "325/325 [==============================] - 119s 367ms/step - loss: 0.2910 - accuracy: 0.9024 - val_loss: 0.3723 - val_accuracy: 0.8766\n",
      "\n",
      "Epoch 00037: val_loss did not improve from 0.35689\n",
      "Epoch 38/100\n",
      "325/325 [==============================] - 120s 368ms/step - loss: 0.2942 - accuracy: 0.9012 - val_loss: 0.3765 - val_accuracy: 0.8766\n",
      "\n",
      "Epoch 00038: val_loss did not improve from 0.35689\n",
      "\n",
      "Epoch 00038: ReduceLROnPlateau reducing learning rate to 2.6999999249710525e-07.\n",
      "Epoch 39/100\n",
      "325/325 [==============================] - 119s 366ms/step - loss: 0.3006 - accuracy: 0.8964 - val_loss: 0.3780 - val_accuracy: 0.8783\n",
      "\n",
      "Epoch 00039: val_loss did not improve from 0.35689\n"
     ]
    },
    {
     "data": {
      "text/plain": [
       "<tensorflow.python.keras.callbacks.History at 0x7f690bdcddd8>"
      ]
     },
     "execution_count": 33,
     "metadata": {},
     "output_type": "execute_result"
    }
   ],
   "source": [
    "conv_base.trainable = True\n",
    "\n",
    "set_trainable = False\n",
    "for layer in conv_base.layers:\n",
    "    if layer.name == 'block14_sepconv1':\n",
    "        set_trainable = True\n",
    "    if set_trainable:\n",
    "        layer.trainable = True\n",
    "    else:\n",
    "        layer.trainable = False\n",
    "\n",
    "pombEye_xception.compile(optimizer= tf.keras.optimizers.RMSprop(lr=1e-5),\n",
    "  loss = \"categorical_crossentropy\",\n",
    "  metrics = ['accuracy']) \n",
    "\n",
    "pombEye_xception.fit(train_generator,steps_per_epoch = train_generator.n//train_generator.batch_size,\n",
    "                              epochs= 100 ,callbacks=[checkpoint,reduce_lr, early_stopping_cb, tensorboard_cb],\n",
    "                            validation_data = valid_generator,\n",
    "                            validation_steps= valid_generator.n//valid_generator.batch_size,\n",
    "                              shuffle=True)"
   ]
  },
  {
   "cell_type": "code",
   "execution_count": 34,
   "metadata": {},
   "outputs": [
    {
     "name": "stdout",
     "output_type": "stream",
     "text": [
      "Epoch 1/100\n",
      "325/325 [==============================] - 121s 368ms/step - loss: 0.3542 - accuracy: 0.8814 - val_loss: 0.3841 - val_accuracy: 0.8586\n",
      "\n",
      "Epoch 00001: val_loss did not improve from 0.35689\n",
      "Epoch 2/100\n",
      "325/325 [==============================] - 118s 362ms/step - loss: 0.3151 - accuracy: 0.8973 - val_loss: 0.3882 - val_accuracy: 0.8602\n",
      "\n",
      "Epoch 00002: val_loss did not improve from 0.35689\n",
      "Epoch 3/100\n",
      "325/325 [==============================] - 118s 363ms/step - loss: 0.3142 - accuracy: 0.8924 - val_loss: 0.3753 - val_accuracy: 0.8717\n",
      "\n",
      "Epoch 00003: val_loss did not improve from 0.35689\n",
      "Epoch 4/100\n",
      "325/325 [==============================] - 119s 364ms/step - loss: 0.3048 - accuracy: 0.8937 - val_loss: 0.3830 - val_accuracy: 0.8684\n",
      "\n",
      "Epoch 00004: val_loss did not improve from 0.35689\n",
      "Epoch 5/100\n",
      "325/325 [==============================] - 120s 369ms/step - loss: 0.2879 - accuracy: 0.9046 - val_loss: 0.3589 - val_accuracy: 0.8734\n",
      "\n",
      "Epoch 00005: val_loss did not improve from 0.35689\n",
      "Epoch 6/100\n",
      "325/325 [==============================] - 120s 368ms/step - loss: 0.2710 - accuracy: 0.9089 - val_loss: 0.3451 - val_accuracy: 0.8799\n",
      "\n",
      "Epoch 00006: val_loss improved from 0.35689 to 0.34514, saving model to pombEye_xception.h5\n",
      "Epoch 7/100\n",
      "325/325 [==============================] - 118s 363ms/step - loss: 0.2623 - accuracy: 0.9109 - val_loss: 0.3304 - val_accuracy: 0.8783\n",
      "\n",
      "Epoch 00007: val_loss improved from 0.34514 to 0.33037, saving model to pombEye_xception.h5\n",
      "Epoch 8/100\n",
      "325/325 [==============================] - 120s 369ms/step - loss: 0.2547 - accuracy: 0.9133 - val_loss: 0.3482 - val_accuracy: 0.8832\n",
      "\n",
      "Epoch 00008: val_loss did not improve from 0.33037\n",
      "Epoch 9/100\n",
      "325/325 [==============================] - 120s 368ms/step - loss: 0.2548 - accuracy: 0.9101 - val_loss: 0.3230 - val_accuracy: 0.8914\n",
      "\n",
      "Epoch 00009: val_loss improved from 0.33037 to 0.32302, saving model to pombEye_xception.h5\n",
      "Epoch 10/100\n",
      "325/325 [==============================] - 120s 367ms/step - loss: 0.2444 - accuracy: 0.9174 - val_loss: 0.3198 - val_accuracy: 0.8898\n",
      "\n",
      "Epoch 00010: val_loss improved from 0.32302 to 0.31978, saving model to pombEye_xception.h5\n",
      "Epoch 11/100\n",
      "325/325 [==============================] - 119s 366ms/step - loss: 0.2360 - accuracy: 0.9224 - val_loss: 0.3209 - val_accuracy: 0.8832\n",
      "\n",
      "Epoch 00011: val_loss did not improve from 0.31978\n",
      "Epoch 12/100\n",
      "325/325 [==============================] - 119s 365ms/step - loss: 0.2334 - accuracy: 0.9188 - val_loss: 0.3041 - val_accuracy: 0.8931\n",
      "\n",
      "Epoch 00012: val_loss improved from 0.31978 to 0.30410, saving model to pombEye_xception.h5\n",
      "Epoch 13/100\n",
      "325/325 [==============================] - 118s 362ms/step - loss: 0.2366 - accuracy: 0.9204 - val_loss: 0.3037 - val_accuracy: 0.8849\n",
      "\n",
      "Epoch 00013: val_loss improved from 0.30410 to 0.30372, saving model to pombEye_xception.h5\n",
      "Epoch 14/100\n",
      "325/325 [==============================] - 118s 363ms/step - loss: 0.2263 - accuracy: 0.9188 - val_loss: 0.3039 - val_accuracy: 0.9013\n",
      "\n",
      "Epoch 00014: val_loss did not improve from 0.30372\n",
      "Epoch 15/100\n",
      "325/325 [==============================] - 118s 362ms/step - loss: 0.2277 - accuracy: 0.9219 - val_loss: 0.2982 - val_accuracy: 0.8964\n",
      "\n",
      "Epoch 00015: val_loss improved from 0.30372 to 0.29819, saving model to pombEye_xception.h5\n",
      "Epoch 16/100\n",
      "325/325 [==============================] - 120s 367ms/step - loss: 0.2129 - accuracy: 0.9311 - val_loss: 0.2944 - val_accuracy: 0.9013\n",
      "\n",
      "Epoch 00016: val_loss improved from 0.29819 to 0.29442, saving model to pombEye_xception.h5\n",
      "Epoch 17/100\n",
      "325/325 [==============================] - 118s 364ms/step - loss: 0.2263 - accuracy: 0.9192 - val_loss: 0.2767 - val_accuracy: 0.8980\n",
      "\n",
      "Epoch 00017: val_loss improved from 0.29442 to 0.27671, saving model to pombEye_xception.h5\n",
      "Epoch 18/100\n",
      "325/325 [==============================] - 119s 366ms/step - loss: 0.2044 - accuracy: 0.9295 - val_loss: 0.2778 - val_accuracy: 0.8931\n",
      "\n",
      "Epoch 00018: val_loss did not improve from 0.27671\n",
      "Epoch 19/100\n",
      "325/325 [==============================] - 119s 367ms/step - loss: 0.2103 - accuracy: 0.9268 - val_loss: 0.2977 - val_accuracy: 0.9013\n",
      "\n",
      "Epoch 00019: val_loss did not improve from 0.27671\n",
      "Epoch 20/100\n",
      "325/325 [==============================] - 120s 368ms/step - loss: 0.1910 - accuracy: 0.9363 - val_loss: 0.2834 - val_accuracy: 0.9046\n",
      "\n",
      "Epoch 00020: val_loss did not improve from 0.27671\n",
      "\n",
      "Epoch 00020: ReduceLROnPlateau reducing learning rate to 2.9999999242136253e-06.\n",
      "Epoch 21/100\n",
      "325/325 [==============================] - 119s 366ms/step - loss: 0.1960 - accuracy: 0.9328 - val_loss: 0.2862 - val_accuracy: 0.9013\n",
      "\n",
      "Epoch 00021: val_loss did not improve from 0.27671\n",
      "Epoch 22/100\n",
      "325/325 [==============================] - 119s 365ms/step - loss: 0.2005 - accuracy: 0.9295 - val_loss: 0.2889 - val_accuracy: 0.8997\n",
      "\n",
      "Epoch 00022: val_loss did not improve from 0.27671\n",
      "Epoch 23/100\n",
      "325/325 [==============================] - 117s 360ms/step - loss: 0.1873 - accuracy: 0.9359 - val_loss: 0.2703 - val_accuracy: 0.9079\n",
      "\n",
      "Epoch 00023: val_loss improved from 0.27671 to 0.27030, saving model to pombEye_xception.h5\n",
      "Epoch 24/100\n",
      "325/325 [==============================] - 118s 362ms/step - loss: 0.1884 - accuracy: 0.9339 - val_loss: 0.2812 - val_accuracy: 0.9062\n",
      "\n",
      "Epoch 00024: val_loss did not improve from 0.27030\n",
      "Epoch 25/100\n",
      "325/325 [==============================] - 118s 362ms/step - loss: 0.1907 - accuracy: 0.9313 - val_loss: 0.2736 - val_accuracy: 0.9046\n",
      "\n",
      "Epoch 00025: val_loss did not improve from 0.27030\n",
      "Epoch 26/100\n",
      "325/325 [==============================] - 118s 362ms/step - loss: 0.1909 - accuracy: 0.9354 - val_loss: 0.2804 - val_accuracy: 0.9046\n",
      "\n",
      "Epoch 00026: val_loss did not improve from 0.27030\n",
      "\n",
      "Epoch 00026: ReduceLROnPlateau reducing learning rate to 8.999999636216671e-07.\n",
      "Epoch 27/100\n",
      "325/325 [==============================] - 118s 363ms/step - loss: 0.1869 - accuracy: 0.9376 - val_loss: 0.2785 - val_accuracy: 0.9062\n",
      "\n",
      "Epoch 00027: val_loss did not improve from 0.27030\n",
      "Epoch 28/100\n",
      "325/325 [==============================] - 118s 361ms/step - loss: 0.1905 - accuracy: 0.9348 - val_loss: 0.2715 - val_accuracy: 0.9046\n",
      "\n",
      "Epoch 00028: val_loss did not improve from 0.27030\n",
      "Epoch 29/100\n",
      "325/325 [==============================] - 117s 360ms/step - loss: 0.1946 - accuracy: 0.9314 - val_loss: 0.2741 - val_accuracy: 0.9079\n",
      "\n",
      "Epoch 00029: val_loss did not improve from 0.27030\n",
      "\n",
      "Epoch 00029: ReduceLROnPlateau reducing learning rate to 2.6999999249710525e-07.\n",
      "Epoch 30/100\n",
      "325/325 [==============================] - 118s 362ms/step - loss: 0.1869 - accuracy: 0.9384 - val_loss: 0.2729 - val_accuracy: 0.9062\n",
      "\n",
      "Epoch 00030: val_loss did not improve from 0.27030\n"
     ]
    },
    {
     "data": {
      "text/plain": [
       "<tensorflow.python.keras.callbacks.History at 0x7f690b9a9860>"
      ]
     },
     "execution_count": 34,
     "metadata": {},
     "output_type": "execute_result"
    }
   ],
   "source": [
    "conv_base.trainable = True\n",
    "\n",
    "set_trainable = False\n",
    "for layer in conv_base.layers:\n",
    "    if layer.name == 'block13_sepconv1_act':\n",
    "        set_trainable = True\n",
    "    if set_trainable:\n",
    "        layer.trainable = True\n",
    "    else:\n",
    "        layer.trainable = False\n",
    "\n",
    "pombEye_xception.compile(optimizer= tf.keras.optimizers.RMSprop(lr=1e-5),\n",
    "  loss = \"categorical_crossentropy\",\n",
    "  metrics = ['accuracy']) \n",
    "\n",
    "pombEye_xception.fit(train_generator,steps_per_epoch = train_generator.n//train_generator.batch_size,\n",
    "                              epochs= 100 ,callbacks=[checkpoint,reduce_lr, early_stopping_cb, tensorboard_cb],\n",
    "                            validation_data = valid_generator,\n",
    "                            validation_steps= valid_generator.n//valid_generator.batch_size,\n",
    "                              shuffle=True)"
   ]
  },
  {
   "cell_type": "code",
   "execution_count": 35,
   "metadata": {},
   "outputs": [
    {
     "name": "stdout",
     "output_type": "stream",
     "text": [
      "Epoch 1/100\n",
      "325/325 [==============================] - 121s 366ms/step - loss: 0.2106 - accuracy: 0.9262 - val_loss: 0.3055 - val_accuracy: 0.8980\n",
      "\n",
      "Epoch 00001: val_loss did not improve from 0.27030\n",
      "Epoch 2/100\n",
      "325/325 [==============================] - 118s 362ms/step - loss: 0.2008 - accuracy: 0.9298 - val_loss: 0.2891 - val_accuracy: 0.9013\n",
      "\n",
      "Epoch 00002: val_loss did not improve from 0.27030\n",
      "Epoch 3/100\n",
      "325/325 [==============================] - 117s 360ms/step - loss: 0.1959 - accuracy: 0.9318 - val_loss: 0.2856 - val_accuracy: 0.9030\n",
      "\n",
      "Epoch 00003: val_loss did not improve from 0.27030\n",
      "Epoch 4/100\n",
      "325/325 [==============================] - 117s 361ms/step - loss: 0.1951 - accuracy: 0.9349 - val_loss: 0.2814 - val_accuracy: 0.9079\n",
      "\n",
      "Epoch 00004: val_loss did not improve from 0.27030\n",
      "Epoch 5/100\n",
      "325/325 [==============================] - 118s 361ms/step - loss: 0.1843 - accuracy: 0.9344 - val_loss: 0.2742 - val_accuracy: 0.9079\n",
      "\n",
      "Epoch 00005: val_loss did not improve from 0.27030\n",
      "Epoch 6/100\n",
      "325/325 [==============================] - 118s 363ms/step - loss: 0.1693 - accuracy: 0.9425 - val_loss: 0.2625 - val_accuracy: 0.9128\n",
      "\n",
      "Epoch 00006: val_loss improved from 0.27030 to 0.26245, saving model to pombEye_xception.h5\n",
      "Epoch 7/100\n",
      "325/325 [==============================] - 117s 360ms/step - loss: 0.1687 - accuracy: 0.9402 - val_loss: 0.2478 - val_accuracy: 0.9211\n",
      "\n",
      "Epoch 00007: val_loss improved from 0.26245 to 0.24779, saving model to pombEye_xception.h5\n",
      "Epoch 8/100\n",
      "325/325 [==============================] - 118s 361ms/step - loss: 0.1739 - accuracy: 0.9389 - val_loss: 0.2602 - val_accuracy: 0.9227\n",
      "\n",
      "Epoch 00008: val_loss did not improve from 0.24779\n",
      "Epoch 9/100\n",
      "325/325 [==============================] - 117s 360ms/step - loss: 0.1600 - accuracy: 0.9453 - val_loss: 0.2453 - val_accuracy: 0.9178\n",
      "\n",
      "Epoch 00009: val_loss improved from 0.24779 to 0.24532, saving model to pombEye_xception.h5\n",
      "Epoch 10/100\n",
      "325/325 [==============================] - 117s 361ms/step - loss: 0.1610 - accuracy: 0.9460 - val_loss: 0.2514 - val_accuracy: 0.9178\n",
      "\n",
      "Epoch 00010: val_loss did not improve from 0.24532\n",
      "Epoch 11/100\n",
      "325/325 [==============================] - 117s 361ms/step - loss: 0.1520 - accuracy: 0.9486 - val_loss: 0.2326 - val_accuracy: 0.9211\n",
      "\n",
      "Epoch 00011: val_loss improved from 0.24532 to 0.23260, saving model to pombEye_xception.h5\n",
      "Epoch 12/100\n",
      "325/325 [==============================] - 118s 361ms/step - loss: 0.1565 - accuracy: 0.9428 - val_loss: 0.2333 - val_accuracy: 0.9243\n",
      "\n",
      "Epoch 00012: val_loss did not improve from 0.23260\n",
      "Epoch 13/100\n",
      "325/325 [==============================] - 117s 360ms/step - loss: 0.1600 - accuracy: 0.9448 - val_loss: 0.2316 - val_accuracy: 0.9260\n",
      "\n",
      "Epoch 00013: val_loss improved from 0.23260 to 0.23163, saving model to pombEye_xception.h5\n",
      "Epoch 14/100\n",
      "325/325 [==============================] - 118s 362ms/step - loss: 0.1502 - accuracy: 0.9480 - val_loss: 0.2414 - val_accuracy: 0.9227\n",
      "\n",
      "Epoch 00014: val_loss did not improve from 0.23163\n",
      "Epoch 15/100\n",
      "325/325 [==============================] - 118s 362ms/step - loss: 0.1437 - accuracy: 0.9509 - val_loss: 0.2275 - val_accuracy: 0.9276\n",
      "\n",
      "Epoch 00015: val_loss improved from 0.23163 to 0.22753, saving model to pombEye_xception.h5\n",
      "Epoch 16/100\n",
      "325/325 [==============================] - 119s 364ms/step - loss: 0.1488 - accuracy: 0.9493 - val_loss: 0.2282 - val_accuracy: 0.9211\n",
      "\n",
      "Epoch 00016: val_loss did not improve from 0.22753\n",
      "Epoch 17/100\n",
      "325/325 [==============================] - 118s 363ms/step - loss: 0.1424 - accuracy: 0.9542 - val_loss: 0.2186 - val_accuracy: 0.9243\n",
      "\n",
      "Epoch 00017: val_loss improved from 0.22753 to 0.21857, saving model to pombEye_xception.h5\n",
      "Epoch 18/100\n",
      "325/325 [==============================] - 120s 367ms/step - loss: 0.1360 - accuracy: 0.9524 - val_loss: 0.2152 - val_accuracy: 0.9293\n",
      "\n",
      "Epoch 00018: val_loss improved from 0.21857 to 0.21520, saving model to pombEye_xception.h5\n",
      "Epoch 19/100\n",
      "325/325 [==============================] - 118s 362ms/step - loss: 0.1466 - accuracy: 0.9485 - val_loss: 0.2257 - val_accuracy: 0.9293\n",
      "\n",
      "Epoch 00019: val_loss did not improve from 0.21520\n",
      "Epoch 20/100\n",
      "325/325 [==============================] - 118s 363ms/step - loss: 0.1356 - accuracy: 0.9551 - val_loss: 0.2199 - val_accuracy: 0.9375\n",
      "\n",
      "Epoch 00020: val_loss did not improve from 0.21520\n",
      "Epoch 21/100\n",
      "325/325 [==============================] - 119s 365ms/step - loss: 0.1327 - accuracy: 0.9522 - val_loss: 0.2229 - val_accuracy: 0.9326\n",
      "\n",
      "Epoch 00021: val_loss did not improve from 0.21520\n",
      "\n",
      "Epoch 00021: ReduceLROnPlateau reducing learning rate to 2.9999999242136253e-06.\n",
      "Epoch 22/100\n",
      "325/325 [==============================] - 119s 366ms/step - loss: 0.1238 - accuracy: 0.9578 - val_loss: 0.2165 - val_accuracy: 0.9359\n",
      "\n",
      "Epoch 00022: val_loss did not improve from 0.21520\n",
      "Epoch 23/100\n",
      "325/325 [==============================] - 120s 368ms/step - loss: 0.1232 - accuracy: 0.9595 - val_loss: 0.2169 - val_accuracy: 0.9359\n",
      "\n",
      "Epoch 00023: val_loss did not improve from 0.21520\n",
      "Epoch 24/100\n",
      "325/325 [==============================] - 119s 366ms/step - loss: 0.1221 - accuracy: 0.9564 - val_loss: 0.2070 - val_accuracy: 0.9391\n",
      "\n",
      "Epoch 00024: val_loss improved from 0.21520 to 0.20703, saving model to pombEye_xception.h5\n",
      "Epoch 25/100\n",
      "325/325 [==============================] - 119s 366ms/step - loss: 0.1336 - accuracy: 0.9534 - val_loss: 0.2165 - val_accuracy: 0.9375\n",
      "\n",
      "Epoch 00025: val_loss did not improve from 0.20703\n",
      "Epoch 26/100\n",
      "325/325 [==============================] - 118s 362ms/step - loss: 0.1236 - accuracy: 0.9577 - val_loss: 0.2155 - val_accuracy: 0.9342\n",
      "\n",
      "Epoch 00026: val_loss did not improve from 0.20703\n",
      "Epoch 27/100\n",
      "325/325 [==============================] - 118s 362ms/step - loss: 0.1324 - accuracy: 0.9554 - val_loss: 0.2171 - val_accuracy: 0.9326\n",
      "\n",
      "Epoch 00027: val_loss did not improve from 0.20703\n",
      "\n",
      "Epoch 00027: ReduceLROnPlateau reducing learning rate to 8.999999636216671e-07.\n",
      "Epoch 28/100\n",
      "325/325 [==============================] - 117s 361ms/step - loss: 0.1319 - accuracy: 0.9555 - val_loss: 0.2209 - val_accuracy: 0.9342\n",
      "\n",
      "Epoch 00028: val_loss did not improve from 0.20703\n",
      "Epoch 29/100\n",
      "325/325 [==============================] - 118s 361ms/step - loss: 0.1300 - accuracy: 0.9575 - val_loss: 0.2222 - val_accuracy: 0.9342\n",
      "\n",
      "Epoch 00029: val_loss did not improve from 0.20703\n",
      "Epoch 30/100\n",
      "325/325 [==============================] - 118s 362ms/step - loss: 0.1284 - accuracy: 0.9553 - val_loss: 0.2158 - val_accuracy: 0.9359\n",
      "\n",
      "Epoch 00030: val_loss did not improve from 0.20703\n",
      "\n",
      "Epoch 00030: ReduceLROnPlateau reducing learning rate to 2.6999999249710525e-07.\n",
      "Epoch 31/100\n",
      "325/325 [==============================] - 119s 364ms/step - loss: 0.1206 - accuracy: 0.9580 - val_loss: 0.2131 - val_accuracy: 0.9375\n",
      "\n",
      "Epoch 00031: val_loss did not improve from 0.20703\n"
     ]
    },
    {
     "data": {
      "text/plain": [
       "<tensorflow.python.keras.callbacks.History at 0x7f68b3df8e80>"
      ]
     },
     "execution_count": 35,
     "metadata": {},
     "output_type": "execute_result"
    }
   ],
   "source": [
    "conv_base.trainable = True\n",
    "\n",
    "set_trainable = False\n",
    "for layer in conv_base.layers:\n",
    "    if layer.name == 'block12_sepconv1_act':\n",
    "        set_trainable = True\n",
    "    if set_trainable:\n",
    "        layer.trainable = True\n",
    "    else:\n",
    "        layer.trainable = False\n",
    "\n",
    "pombEye_xception.compile(optimizer= tf.keras.optimizers.RMSprop(lr=1e-5),\n",
    "  loss = \"categorical_crossentropy\",\n",
    "  metrics = ['accuracy']) \n",
    "\n",
    "pombEye_xception.fit(train_generator,steps_per_epoch = train_generator.n//train_generator.batch_size,\n",
    "                              epochs= 100 ,callbacks=[checkpoint,reduce_lr, early_stopping_cb, tensorboard_cb],\n",
    "                            validation_data = valid_generator,\n",
    "                            validation_steps= valid_generator.n//valid_generator.batch_size,\n",
    "                              shuffle=True)"
   ]
  },
  {
   "cell_type": "code",
   "execution_count": 36,
   "metadata": {},
   "outputs": [
    {
     "name": "stdout",
     "output_type": "stream",
     "text": [
      "Epoch 1/100\n",
      "325/325 [==============================] - 121s 365ms/step - loss: 0.1455 - accuracy: 0.9477 - val_loss: 0.2230 - val_accuracy: 0.9309\n",
      "\n",
      "Epoch 00001: val_loss did not improve from 0.20703\n",
      "Epoch 2/100\n",
      "325/325 [==============================] - 117s 361ms/step - loss: 0.1328 - accuracy: 0.9555 - val_loss: 0.2265 - val_accuracy: 0.9309\n",
      "\n",
      "Epoch 00002: val_loss did not improve from 0.20703\n",
      "Epoch 3/100\n",
      "325/325 [==============================] - 118s 361ms/step - loss: 0.1334 - accuracy: 0.9505 - val_loss: 0.2193 - val_accuracy: 0.9326\n",
      "\n",
      "Epoch 00003: val_loss did not improve from 0.20703\n",
      "Epoch 4/100\n",
      "325/325 [==============================] - 118s 362ms/step - loss: 0.1285 - accuracy: 0.9587 - val_loss: 0.2204 - val_accuracy: 0.9359\n",
      "\n",
      "Epoch 00004: val_loss did not improve from 0.20703\n",
      "Epoch 5/100\n",
      "325/325 [==============================] - 118s 362ms/step - loss: 0.1310 - accuracy: 0.9535 - val_loss: 0.2096 - val_accuracy: 0.9408\n",
      "\n",
      "Epoch 00005: val_loss did not improve from 0.20703\n",
      "Epoch 6/100\n",
      "325/325 [==============================] - 118s 363ms/step - loss: 0.1210 - accuracy: 0.9564 - val_loss: 0.1968 - val_accuracy: 0.9457\n",
      "\n",
      "Epoch 00006: val_loss improved from 0.20703 to 0.19676, saving model to pombEye_xception.h5\n",
      "Epoch 7/100\n",
      "325/325 [==============================] - 118s 363ms/step - loss: 0.1291 - accuracy: 0.9545 - val_loss: 0.2178 - val_accuracy: 0.9342\n",
      "\n",
      "Epoch 00007: val_loss did not improve from 0.19676\n",
      "Epoch 8/100\n",
      "325/325 [==============================] - 118s 364ms/step - loss: 0.1170 - accuracy: 0.9588 - val_loss: 0.2116 - val_accuracy: 0.9391\n",
      "\n",
      "Epoch 00008: val_loss did not improve from 0.19676\n",
      "Epoch 9/100\n",
      "325/325 [==============================] - 118s 363ms/step - loss: 0.1147 - accuracy: 0.9597 - val_loss: 0.2043 - val_accuracy: 0.9342\n",
      "\n",
      "Epoch 00009: val_loss did not improve from 0.19676\n",
      "\n",
      "Epoch 00009: ReduceLROnPlateau reducing learning rate to 2.9999999242136253e-06.\n",
      "Epoch 10/100\n",
      "325/325 [==============================] - 119s 366ms/step - loss: 0.1086 - accuracy: 0.9617 - val_loss: 0.2013 - val_accuracy: 0.9375\n",
      "\n",
      "Epoch 00010: val_loss did not improve from 0.19676\n",
      "Epoch 11/100\n",
      "325/325 [==============================] - 118s 363ms/step - loss: 0.1097 - accuracy: 0.9637 - val_loss: 0.2091 - val_accuracy: 0.9359\n",
      "\n",
      "Epoch 00011: val_loss did not improve from 0.19676\n",
      "Epoch 12/100\n",
      "325/325 [==============================] - 118s 363ms/step - loss: 0.1041 - accuracy: 0.9642 - val_loss: 0.1916 - val_accuracy: 0.9408\n",
      "\n",
      "Epoch 00012: val_loss improved from 0.19676 to 0.19163, saving model to pombEye_xception.h5\n",
      "Epoch 13/100\n",
      "325/325 [==============================] - 118s 362ms/step - loss: 0.1065 - accuracy: 0.9622 - val_loss: 0.2048 - val_accuracy: 0.9359\n",
      "\n",
      "Epoch 00013: val_loss did not improve from 0.19163\n",
      "Epoch 14/100\n",
      "325/325 [==============================] - 118s 362ms/step - loss: 0.1054 - accuracy: 0.9630 - val_loss: 0.2051 - val_accuracy: 0.9359\n",
      "\n",
      "Epoch 00014: val_loss did not improve from 0.19163\n",
      "Epoch 15/100\n",
      "325/325 [==============================] - 118s 362ms/step - loss: 0.1055 - accuracy: 0.9644 - val_loss: 0.2067 - val_accuracy: 0.9359\n",
      "\n",
      "Epoch 00015: val_loss did not improve from 0.19163\n",
      "\n",
      "Epoch 00015: ReduceLROnPlateau reducing learning rate to 8.999999636216671e-07.\n",
      "Epoch 16/100\n",
      "325/325 [==============================] - 118s 363ms/step - loss: 0.1073 - accuracy: 0.9633 - val_loss: 0.1937 - val_accuracy: 0.9408\n",
      "\n",
      "Epoch 00016: val_loss did not improve from 0.19163\n",
      "Epoch 17/100\n",
      "325/325 [==============================] - 119s 365ms/step - loss: 0.1098 - accuracy: 0.9606 - val_loss: 0.2011 - val_accuracy: 0.9391\n",
      "\n",
      "Epoch 00017: val_loss did not improve from 0.19163\n",
      "Epoch 18/100\n",
      "325/325 [==============================] - 120s 367ms/step - loss: 0.1023 - accuracy: 0.9663 - val_loss: 0.2054 - val_accuracy: 0.9342\n",
      "\n",
      "Epoch 00018: val_loss did not improve from 0.19163\n",
      "\n",
      "Epoch 00018: ReduceLROnPlateau reducing learning rate to 2.6999999249710525e-07.\n",
      "Epoch 19/100\n",
      "325/325 [==============================] - 120s 367ms/step - loss: 0.1038 - accuracy: 0.9637 - val_loss: 0.2010 - val_accuracy: 0.9391\n",
      "\n",
      "Epoch 00019: val_loss did not improve from 0.19163\n"
     ]
    },
    {
     "data": {
      "text/plain": [
       "<tensorflow.python.keras.callbacks.History at 0x7f68ac243780>"
      ]
     },
     "execution_count": 36,
     "metadata": {},
     "output_type": "execute_result"
    }
   ],
   "source": [
    "conv_base.trainable = True\n",
    "\n",
    "set_trainable = False\n",
    "for layer in conv_base.layers:\n",
    "    if layer.name == 'block11_sepconv1_act':\n",
    "        set_trainable = True\n",
    "    if set_trainable:\n",
    "        layer.trainable = True\n",
    "    else:\n",
    "        layer.trainable = False\n",
    "\n",
    "pombEye_xception.compile(optimizer= tf.keras.optimizers.RMSprop(lr=1e-5),\n",
    "  loss = \"categorical_crossentropy\",\n",
    "  metrics = ['accuracy']) \n",
    "\n",
    "pombEye_xception.fit(train_generator,steps_per_epoch = train_generator.n//train_generator.batch_size,\n",
    "                              epochs= 100 ,callbacks=[checkpoint,reduce_lr, early_stopping_cb, tensorboard_cb],\n",
    "                            validation_data = valid_generator,\n",
    "                            validation_steps= valid_generator.n//valid_generator.batch_size,\n",
    "                              shuffle=True)\n"
   ]
  },
  {
   "cell_type": "code",
   "execution_count": 59,
   "metadata": {},
   "outputs": [
    {
     "name": "stdout",
     "output_type": "stream",
     "text": [
      "Found 629 validated image filenames belonging to 9 classes.\n"
     ]
    }
   ],
   "source": [
    "valid_generator_2=valid_datagen.flow_from_dataframe(\n",
    "dataframe=validation_df,\n",
    "directory=\"images\",\n",
    "x_col=\"filename\",\n",
    "y_col='label',\n",
    "batch_size=batchSize,\n",
    "seed=42,\n",
    "shuffle=False,\n",
    "class_mode='categorical',\n",
    "target_size=(299,299))\n",
    "\n",
    "test_steps_per_epoch = np.math.ceil(valid_generator_2.samples / valid_generator_2.batch_size)\n",
    "\n",
    "predictions = pombEye_xception.predict(valid_generator_2, steps=test_steps_per_epoch)\n",
    "# Get most likely class\n",
    "predicted_classes = np.argmax(predictions, axis=1)"
   ]
  },
  {
   "cell_type": "code",
   "execution_count": 60,
   "metadata": {},
   "outputs": [
    {
     "data": {
      "text/plain": [
       "array([0, 6, 2, 2, 5, 6, 1, 1, 1, 1, 1, 1, 1, 6, 6, 6, 5, 6, 5, 4, 6, 2,\n",
       "       1, 2, 1, 6, 1, 1, 2, 6, 1, 5, 6, 2, 6, 6, 1, 5, 1, 6, 6, 2, 1, 0,\n",
       "       6, 6, 1, 1, 1, 2, 2, 2, 2, 1, 6, 1, 1, 6, 1, 5, 1, 7, 5, 2, 2, 6,\n",
       "       6, 6, 8, 1, 1, 0, 1, 5, 1, 1, 0, 6, 1, 1, 6, 1, 1, 6, 1, 7, 5, 1,\n",
       "       6, 3, 1, 6, 2, 2, 1, 2, 6, 1, 6, 0, 6, 2, 7, 1, 2, 2, 8, 1, 0, 3,\n",
       "       6, 1, 1, 5, 5, 6, 6, 1, 1, 5, 1, 1, 0, 2, 1, 6, 6, 6, 2, 5, 6, 6,\n",
       "       1, 2, 1, 1, 6, 0, 0, 8, 6, 1, 6, 1, 5, 6, 1, 2, 3, 1, 1, 3, 1, 6,\n",
       "       1, 1, 2, 1, 1, 6, 6, 1, 1, 2, 6, 6, 1, 1, 6, 1, 1, 1, 2, 6, 6, 6,\n",
       "       8, 5, 1, 3, 0, 2, 6, 6, 6, 1, 6, 6, 1, 1, 2, 1, 1, 7, 1, 8, 1, 2,\n",
       "       1, 1, 1, 1, 1, 6, 4, 2, 2, 1, 2, 0, 0, 6, 5, 1, 6, 4, 2, 6, 8, 0,\n",
       "       1, 1, 2, 5, 6, 5, 1, 1, 6, 1, 1, 6, 6, 6, 6, 6, 5, 6, 5, 1, 1, 0,\n",
       "       6, 1, 0, 1, 6, 1, 2, 6, 2, 1, 1, 1, 6, 3, 1, 1, 8, 1, 1, 6, 2, 6,\n",
       "       6, 6, 1, 8, 1, 3, 8, 1, 6, 0, 0, 6, 1, 1, 1, 1, 7, 7, 2, 6, 1, 6,\n",
       "       2, 1, 1, 6, 3, 2, 6, 2, 3, 6, 1, 6, 0, 6, 1, 1, 6, 0, 1, 6, 1, 2,\n",
       "       1, 0, 6, 0, 1, 1, 7, 5, 6, 1, 2, 5, 6, 1, 1, 6, 1, 6, 7, 3, 1, 3,\n",
       "       6, 0, 6, 2, 6, 1, 6, 3, 2, 8, 1, 6, 1, 8, 8, 0, 1, 1, 6, 1, 1, 2,\n",
       "       1, 3, 7, 5, 8, 0, 5, 2, 6, 1, 2, 8, 1, 6, 1, 1, 3, 1, 2, 1, 1, 2,\n",
       "       2, 0, 1, 6, 1, 2, 1, 1, 6, 6, 4, 1, 1, 1, 2, 8, 1, 2, 1, 6, 1, 2,\n",
       "       1, 3, 2, 1, 2, 6, 1, 7, 1, 1, 6, 0, 1, 2, 2, 6, 2, 1, 1, 6, 1, 2,\n",
       "       1, 1, 6, 3, 2, 1, 6, 1, 6, 1, 3, 0, 5, 6, 7, 6, 8, 2, 1, 1, 1, 1,\n",
       "       2, 1, 2, 1, 8, 1, 6, 6, 3, 6, 0, 8, 2, 6, 2, 6, 1, 2, 1, 1, 7, 2,\n",
       "       6, 3, 1, 1, 0, 6, 1, 0, 2, 8, 1, 1, 8, 6, 5, 1, 6, 1, 1, 1, 7, 1,\n",
       "       1, 1, 2, 2, 1, 1, 1, 6, 1, 6, 5, 2, 1, 1, 1, 1, 2, 7, 3, 1, 1, 6,\n",
       "       6, 1, 1, 5, 6, 6, 1, 1, 7, 1, 1, 1, 3, 3, 5, 2, 6, 6, 1, 1, 6, 1,\n",
       "       6, 1, 1, 3, 6, 3, 1, 5, 1, 1, 2, 1, 6, 1, 5, 1, 1, 2, 3, 1, 0, 1,\n",
       "       3, 1, 0, 1, 1, 1, 3, 1, 6, 1, 7, 6, 1, 5, 8, 1, 6, 1, 1, 0, 1, 5,\n",
       "       2, 1, 2, 2, 1, 1, 6, 2, 1, 0, 8, 6, 1, 2, 3, 2, 3, 2, 1, 1, 1, 2,\n",
       "       1, 1, 1, 2, 2, 0, 1, 6, 6, 2, 2, 1, 0, 1, 1, 1, 3, 6, 5, 8, 2, 1,\n",
       "       5, 6, 1, 1, 6, 1, 2, 1, 2, 6, 1, 2, 6])"
      ]
     },
     "execution_count": 60,
     "metadata": {},
     "output_type": "execute_result"
    }
   ],
   "source": [
    "predicted_classes"
   ]
  },
  {
   "cell_type": "code",
   "execution_count": 61,
   "metadata": {},
   "outputs": [],
   "source": [
    "true_classes = valid_generator_2.classes\n",
    "class_labels = list(valid_generator_2.class_indices.keys()) "
   ]
  },
  {
   "cell_type": "code",
   "execution_count": 62,
   "metadata": {},
   "outputs": [
    {
     "data": {
      "text/plain": [
       "['cytosol',\n",
       " 'cytosol_and_nucleus',\n",
       " 'endoplasmic_reticulum',\n",
       " 'golgi',\n",
       " 'microtubules',\n",
       " 'mitochondrion',\n",
       " 'nucleus',\n",
       " 'periphery',\n",
       " 'vacuole']"
      ]
     },
     "execution_count": 62,
     "metadata": {},
     "output_type": "execute_result"
    }
   ],
   "source": [
    "class_labels"
   ]
  },
  {
   "cell_type": "code",
   "execution_count": 63,
   "metadata": {},
   "outputs": [
    {
     "name": "stdout",
     "output_type": "stream",
     "text": [
      "                       precision    recall  f1-score   support\n",
      "\n",
      "              cytosol       0.89      0.97      0.93        33\n",
      "  cytosol_and_nucleus       0.99      0.95      0.97       258\n",
      "endoplasmic_reticulum       0.97      0.95      0.96        95\n",
      "                golgi       0.77      0.77      0.77        30\n",
      "         microtubules       0.50      1.00      0.67         2\n",
      "        mitochondrion       0.89      0.91      0.90        34\n",
      "              nucleus       0.93      0.95      0.94       142\n",
      "            periphery       0.75      1.00      0.86        12\n",
      "              vacuole       0.91      0.91      0.91        23\n",
      "\n",
      "             accuracy                           0.94       629\n",
      "            macro avg       0.84      0.93      0.88       629\n",
      "         weighted avg       0.94      0.94      0.94       629\n",
      "\n"
     ]
    }
   ],
   "source": [
    "from sklearn import metrics \n",
    "report = metrics.classification_report(true_classes, predicted_classes, target_names=class_labels)\n",
    "print(report)"
   ]
  },
  {
   "cell_type": "code",
   "execution_count": 64,
   "metadata": {},
   "outputs": [
    {
     "data": {
      "text/plain": [
       "array([[ 32,   0,   0,   0,   0,   0,   0,   1,   0],\n",
       "       [  3, 245,   0,   1,   0,   1,   6,   2,   0],\n",
       "       [  1,   0,  90,   2,   0,   0,   1,   1,   0],\n",
       "       [  0,   0,   3,  23,   1,   0,   2,   0,   1],\n",
       "       [  0,   0,   0,   0,   2,   0,   0,   0,   0],\n",
       "       [  0,   0,   0,   1,   0,  31,   1,   0,   1],\n",
       "       [  0,   2,   0,   1,   1,   3, 135,   0,   0],\n",
       "       [  0,   0,   0,   0,   0,   0,   0,  12,   0],\n",
       "       [  0,   0,   0,   2,   0,   0,   0,   0,  21]])"
      ]
     },
     "execution_count": 64,
     "metadata": {},
     "output_type": "execute_result"
    }
   ],
   "source": [
    "metrics.confusion_matrix(true_classes, predicted_classes)"
   ]
  },
  {
   "cell_type": "markdown",
   "metadata": {},
   "source": [
    "# Test dataset"
   ]
  },
  {
   "cell_type": "code",
   "execution_count": 66,
   "metadata": {},
   "outputs": [
    {
     "name": "stdout",
     "output_type": "stream",
     "text": [
      "Found 597 validated image filenames belonging to 9 classes.\n",
      "                       precision    recall  f1-score   support\n",
      "\n",
      "              cytosol       0.93      0.91      0.92        46\n",
      "  cytosol_and_nucleus       0.98      0.96      0.97       266\n",
      "endoplasmic_reticulum       0.97      0.95      0.96        74\n",
      "                golgi       0.76      0.93      0.84        28\n",
      "         microtubules       0.67      1.00      0.80         2\n",
      "        mitochondrion       1.00      0.93      0.96        29\n",
      "              nucleus       0.93      0.94      0.94       120\n",
      "            periphery       0.79      1.00      0.88        11\n",
      "              vacuole       0.90      0.90      0.90        21\n",
      "\n",
      "             accuracy                           0.95       597\n",
      "            macro avg       0.88      0.95      0.91       597\n",
      "         weighted avg       0.95      0.95      0.95       597\n",
      "\n"
     ]
    }
   ],
   "source": [
    "test_generator=valid_datagen.flow_from_dataframe(\n",
    "dataframe=test_df,\n",
    "directory=\"images\",\n",
    "x_col=\"filename\",\n",
    "y_col='label',\n",
    "batch_size=batchSize,\n",
    "seed=42,\n",
    "shuffle=False,\n",
    "class_mode='categorical',\n",
    "target_size=(299,299))\n",
    "\n",
    "test_steps_per_epoch = np.math.ceil(test_generator.samples / test_generator.batch_size)\n",
    "\n",
    "predictions = pombEye_xception.predict(test_generator, steps=test_steps_per_epoch)\n",
    "# Get most likely class\n",
    "predicted_classes = np.argmax(predictions, axis=1)\n",
    "\n",
    "true_classes = test_generator.classes\n",
    "class_labels = list(test_generator.class_indices.keys()) \n",
    "\n",
    "print(metrics.classification_report(true_classes, predicted_classes, target_names=class_labels))"
   ]
  },
  {
   "cell_type": "code",
   "execution_count": 67,
   "metadata": {},
   "outputs": [
    {
     "data": {
      "text/plain": [
       "array([[ 42,   3,   0,   0,   0,   0,   1,   0,   0],\n",
       "       [  3, 255,   1,   0,   0,   0,   5,   1,   1],\n",
       "       [  0,   0,  70,   3,   0,   0,   0,   1,   0],\n",
       "       [  0,   0,   0,  26,   0,   0,   2,   0,   0],\n",
       "       [  0,   0,   0,   0,   2,   0,   0,   0,   0],\n",
       "       [  0,   0,   0,   0,   1,  27,   0,   0,   1],\n",
       "       [  0,   2,   0,   4,   0,   0, 113,   1,   0],\n",
       "       [  0,   0,   0,   0,   0,   0,   0,  11,   0],\n",
       "       [  0,   0,   1,   1,   0,   0,   0,   0,  19]])"
      ]
     },
     "execution_count": 67,
     "metadata": {},
     "output_type": "execute_result"
    }
   ],
   "source": [
    "metrics.confusion_matrix(true_classes, predicted_classes)"
   ]
  },
  {
   "cell_type": "code",
   "execution_count": null,
   "metadata": {},
   "outputs": [],
   "source": []
  }
 ],
 "metadata": {
  "kernelspec": {
   "display_name": "Python 3",
   "language": "python",
   "name": "python3"
  },
  "language_info": {
   "codemirror_mode": {
    "name": "ipython",
    "version": 3
   },
   "file_extension": ".py",
   "mimetype": "text/x-python",
   "name": "python",
   "nbconvert_exporter": "python",
   "pygments_lexer": "ipython3",
   "version": "3.7.9"
  }
 },
 "nbformat": 4,
 "nbformat_minor": 4
}
